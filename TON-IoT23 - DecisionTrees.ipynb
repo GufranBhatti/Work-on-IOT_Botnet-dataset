{
 "cells": [
  {
   "cell_type": "code",
   "execution_count": 1,
   "id": "afraid-balloon",
   "metadata": {},
   "outputs": [],
   "source": [
    "import pandas as pd\n",
    "from sklearn.svm import SVC\n",
    "from sklearn.model_selection import GridSearchCV\n",
    "from sklearn.metrics import classification_report, confusion_matrix\n",
    "from sklearn.model_selection import train_test_split\n",
    "import time\n",
    "import numpy as np\n",
    "import seaborn as sns\n",
    "import matplotlib.pyplot as plt\n",
    "from sklearn.tree import DecisionTreeClassifier"
   ]
  },
  {
   "cell_type": "code",
   "execution_count": 2,
   "id": "enabling-awareness",
   "metadata": {},
   "outputs": [],
   "source": [
    "filepath = \"C:/Users/gufra/OneDrive/Desktop/Detection-TonIoT23-main/UNSW_2018_IoT_Botnet_Full5pc_4.csv\""
   ]
  },
  {
   "cell_type": "code",
   "execution_count": 3,
   "id": "split-employee",
   "metadata": {},
   "outputs": [],
   "source": [
    "training_dataset = pd.read_csv(filepath)"
   ]
  },
  {
   "cell_type": "code",
   "execution_count": 4,
   "id": "powerful-socket",
   "metadata": {},
   "outputs": [
    {
     "data": {
      "text/plain": "        pkSeqID         stime flgs  flgs_number proto  proto_number  \\\n0       3000001  1.528099e+09    e            1   udp             3   \n1       3000002  1.528099e+09    e            1   udp             3   \n2       3000003  1.528099e+09    e            1   udp             3   \n3       3000004  1.528099e+09    e            1   udp             3   \n4       3000005  1.528099e+09    e            1   udp             3   \n...         ...           ...  ...          ...   ...           ...   \n668517  3668518  1.529381e+09    e            1   tcp             1   \n668518  3668519  1.529381e+09    e            1   tcp             1   \n668519  3668520  1.529381e+09    e            1   tcp             1   \n668520  3668521  1.529381e+09    e            1   tcp             1   \n668521  3668522  1.529381e+09    e            1   arp             2   \n\n                  saddr  sport            daddr  dport  ...  \\\n0       192.168.100.147   6226    192.168.100.3     80  ...   \n1       192.168.100.147   6227    192.168.100.3     80  ...   \n2       192.168.100.147   6228    192.168.100.3     80  ...   \n3       192.168.100.147   6229    192.168.100.3     80  ...   \n4       192.168.100.147   6230    192.168.100.3     80  ...   \n...                 ...    ...              ...    ...  ...   \n668517  192.168.100.150  35064    192.168.100.3     22  ...   \n668518  192.168.100.150  35066    192.168.100.3     22  ...   \n668519  192.168.100.150  35070    192.168.100.3     22  ...   \n668520    192.168.100.3  43001  192.168.100.150   4433  ...   \n668521    192.168.100.3     -1  192.168.100.149     -1  ...   \n\n        AR_P_Proto_P_DstIP  N_IN_Conn_P_DstIP N_IN_Conn_P_SrcIP  \\\n0                 1.098250                100               100   \n1                 1.098250                100               100   \n2                 1.098250                100               100   \n3                 1.098250                100               100   \n4                 1.098250                100               100   \n...                    ...                ...               ...   \n668517            9.889330                 19                19   \n668518            9.889330                 19                19   \n668519            9.889330                 19                19   \n668520       666667.000000                  1                 3   \n668521            0.018868                  2                 3   \n\n        AR_P_Proto_P_Sport  AR_P_Proto_P_Dport  \\\n0                 1.098270            1.098250   \n1                 1.098270            1.098250   \n2                 1.098270            1.098250   \n3                 1.098270            1.098250   \n4                 1.098270            1.098250   \n...                    ...                 ...   \n668517          455.754000            9.889330   \n668518        10453.000000            9.889330   \n668519           10.785200            9.889330   \n668520       666667.000000        22346.400000   \n668521            0.018868            0.018868   \n\n        Pkts_P_State_P_Protocol_P_DestIP  Pkts_P_State_P_Protocol_P_SrcIP  \\\n0                                   1500                             1500   \n1                                   1500                             1500   \n2                                   1500                             1500   \n3                                   1500                             1500   \n4                                   1500                             1500   \n...                                  ...                              ...   \n668517                                30                               30   \n668518                                30                               30   \n668519                               441                              441   \n668520                                 2                                4   \n668521                                16                               16   \n\n        attack  category  subcategory  \n0            1      DDoS          UDP  \n1            1      DDoS          UDP  \n2            1      DDoS          UDP  \n3            1      DDoS          UDP  \n4            1      DDoS          UDP  \n...        ...       ...          ...  \n668517       1     Theft   Keylogging  \n668518       1     Theft   Keylogging  \n668519       1     Theft   Keylogging  \n668520       1     Theft   Keylogging  \n668521       1     Theft   Keylogging  \n\n[668522 rows x 46 columns]",
      "text/html": "<div>\n<style scoped>\n    .dataframe tbody tr th:only-of-type {\n        vertical-align: middle;\n    }\n\n    .dataframe tbody tr th {\n        vertical-align: top;\n    }\n\n    .dataframe thead th {\n        text-align: right;\n    }\n</style>\n<table border=\"1\" class=\"dataframe\">\n  <thead>\n    <tr style=\"text-align: right;\">\n      <th></th>\n      <th>pkSeqID</th>\n      <th>stime</th>\n      <th>flgs</th>\n      <th>flgs_number</th>\n      <th>proto</th>\n      <th>proto_number</th>\n      <th>saddr</th>\n      <th>sport</th>\n      <th>daddr</th>\n      <th>dport</th>\n      <th>...</th>\n      <th>AR_P_Proto_P_DstIP</th>\n      <th>N_IN_Conn_P_DstIP</th>\n      <th>N_IN_Conn_P_SrcIP</th>\n      <th>AR_P_Proto_P_Sport</th>\n      <th>AR_P_Proto_P_Dport</th>\n      <th>Pkts_P_State_P_Protocol_P_DestIP</th>\n      <th>Pkts_P_State_P_Protocol_P_SrcIP</th>\n      <th>attack</th>\n      <th>category</th>\n      <th>subcategory</th>\n    </tr>\n  </thead>\n  <tbody>\n    <tr>\n      <th>0</th>\n      <td>3000001</td>\n      <td>1.528099e+09</td>\n      <td>e</td>\n      <td>1</td>\n      <td>udp</td>\n      <td>3</td>\n      <td>192.168.100.147</td>\n      <td>6226</td>\n      <td>192.168.100.3</td>\n      <td>80</td>\n      <td>...</td>\n      <td>1.098250</td>\n      <td>100</td>\n      <td>100</td>\n      <td>1.098270</td>\n      <td>1.098250</td>\n      <td>1500</td>\n      <td>1500</td>\n      <td>1</td>\n      <td>DDoS</td>\n      <td>UDP</td>\n    </tr>\n    <tr>\n      <th>1</th>\n      <td>3000002</td>\n      <td>1.528099e+09</td>\n      <td>e</td>\n      <td>1</td>\n      <td>udp</td>\n      <td>3</td>\n      <td>192.168.100.147</td>\n      <td>6227</td>\n      <td>192.168.100.3</td>\n      <td>80</td>\n      <td>...</td>\n      <td>1.098250</td>\n      <td>100</td>\n      <td>100</td>\n      <td>1.098270</td>\n      <td>1.098250</td>\n      <td>1500</td>\n      <td>1500</td>\n      <td>1</td>\n      <td>DDoS</td>\n      <td>UDP</td>\n    </tr>\n    <tr>\n      <th>2</th>\n      <td>3000003</td>\n      <td>1.528099e+09</td>\n      <td>e</td>\n      <td>1</td>\n      <td>udp</td>\n      <td>3</td>\n      <td>192.168.100.147</td>\n      <td>6228</td>\n      <td>192.168.100.3</td>\n      <td>80</td>\n      <td>...</td>\n      <td>1.098250</td>\n      <td>100</td>\n      <td>100</td>\n      <td>1.098270</td>\n      <td>1.098250</td>\n      <td>1500</td>\n      <td>1500</td>\n      <td>1</td>\n      <td>DDoS</td>\n      <td>UDP</td>\n    </tr>\n    <tr>\n      <th>3</th>\n      <td>3000004</td>\n      <td>1.528099e+09</td>\n      <td>e</td>\n      <td>1</td>\n      <td>udp</td>\n      <td>3</td>\n      <td>192.168.100.147</td>\n      <td>6229</td>\n      <td>192.168.100.3</td>\n      <td>80</td>\n      <td>...</td>\n      <td>1.098250</td>\n      <td>100</td>\n      <td>100</td>\n      <td>1.098270</td>\n      <td>1.098250</td>\n      <td>1500</td>\n      <td>1500</td>\n      <td>1</td>\n      <td>DDoS</td>\n      <td>UDP</td>\n    </tr>\n    <tr>\n      <th>4</th>\n      <td>3000005</td>\n      <td>1.528099e+09</td>\n      <td>e</td>\n      <td>1</td>\n      <td>udp</td>\n      <td>3</td>\n      <td>192.168.100.147</td>\n      <td>6230</td>\n      <td>192.168.100.3</td>\n      <td>80</td>\n      <td>...</td>\n      <td>1.098250</td>\n      <td>100</td>\n      <td>100</td>\n      <td>1.098270</td>\n      <td>1.098250</td>\n      <td>1500</td>\n      <td>1500</td>\n      <td>1</td>\n      <td>DDoS</td>\n      <td>UDP</td>\n    </tr>\n    <tr>\n      <th>...</th>\n      <td>...</td>\n      <td>...</td>\n      <td>...</td>\n      <td>...</td>\n      <td>...</td>\n      <td>...</td>\n      <td>...</td>\n      <td>...</td>\n      <td>...</td>\n      <td>...</td>\n      <td>...</td>\n      <td>...</td>\n      <td>...</td>\n      <td>...</td>\n      <td>...</td>\n      <td>...</td>\n      <td>...</td>\n      <td>...</td>\n      <td>...</td>\n      <td>...</td>\n      <td>...</td>\n    </tr>\n    <tr>\n      <th>668517</th>\n      <td>3668518</td>\n      <td>1.529381e+09</td>\n      <td>e</td>\n      <td>1</td>\n      <td>tcp</td>\n      <td>1</td>\n      <td>192.168.100.150</td>\n      <td>35064</td>\n      <td>192.168.100.3</td>\n      <td>22</td>\n      <td>...</td>\n      <td>9.889330</td>\n      <td>19</td>\n      <td>19</td>\n      <td>455.754000</td>\n      <td>9.889330</td>\n      <td>30</td>\n      <td>30</td>\n      <td>1</td>\n      <td>Theft</td>\n      <td>Keylogging</td>\n    </tr>\n    <tr>\n      <th>668518</th>\n      <td>3668519</td>\n      <td>1.529381e+09</td>\n      <td>e</td>\n      <td>1</td>\n      <td>tcp</td>\n      <td>1</td>\n      <td>192.168.100.150</td>\n      <td>35066</td>\n      <td>192.168.100.3</td>\n      <td>22</td>\n      <td>...</td>\n      <td>9.889330</td>\n      <td>19</td>\n      <td>19</td>\n      <td>10453.000000</td>\n      <td>9.889330</td>\n      <td>30</td>\n      <td>30</td>\n      <td>1</td>\n      <td>Theft</td>\n      <td>Keylogging</td>\n    </tr>\n    <tr>\n      <th>668519</th>\n      <td>3668520</td>\n      <td>1.529381e+09</td>\n      <td>e</td>\n      <td>1</td>\n      <td>tcp</td>\n      <td>1</td>\n      <td>192.168.100.150</td>\n      <td>35070</td>\n      <td>192.168.100.3</td>\n      <td>22</td>\n      <td>...</td>\n      <td>9.889330</td>\n      <td>19</td>\n      <td>19</td>\n      <td>10.785200</td>\n      <td>9.889330</td>\n      <td>441</td>\n      <td>441</td>\n      <td>1</td>\n      <td>Theft</td>\n      <td>Keylogging</td>\n    </tr>\n    <tr>\n      <th>668520</th>\n      <td>3668521</td>\n      <td>1.529381e+09</td>\n      <td>e</td>\n      <td>1</td>\n      <td>tcp</td>\n      <td>1</td>\n      <td>192.168.100.3</td>\n      <td>43001</td>\n      <td>192.168.100.150</td>\n      <td>4433</td>\n      <td>...</td>\n      <td>666667.000000</td>\n      <td>1</td>\n      <td>3</td>\n      <td>666667.000000</td>\n      <td>22346.400000</td>\n      <td>2</td>\n      <td>4</td>\n      <td>1</td>\n      <td>Theft</td>\n      <td>Keylogging</td>\n    </tr>\n    <tr>\n      <th>668521</th>\n      <td>3668522</td>\n      <td>1.529381e+09</td>\n      <td>e</td>\n      <td>1</td>\n      <td>arp</td>\n      <td>2</td>\n      <td>192.168.100.3</td>\n      <td>-1</td>\n      <td>192.168.100.149</td>\n      <td>-1</td>\n      <td>...</td>\n      <td>0.018868</td>\n      <td>2</td>\n      <td>3</td>\n      <td>0.018868</td>\n      <td>0.018868</td>\n      <td>16</td>\n      <td>16</td>\n      <td>1</td>\n      <td>Theft</td>\n      <td>Keylogging</td>\n    </tr>\n  </tbody>\n</table>\n<p>668522 rows × 46 columns</p>\n</div>"
     },
     "execution_count": 4,
     "metadata": {},
     "output_type": "execute_result"
    }
   ],
   "source": [
    "training_dataset"
   ]
  },
  {
   "cell_type": "code",
   "execution_count": 5,
   "id": "nearby-bermuda",
   "metadata": {},
   "outputs": [
    {
     "data": {
      "text/plain": "0         1\n1         1\n2         1\n3         1\n4         1\n         ..\n668517    1\n668518    1\n668519    1\n668520    1\n668521    1\nName: attack, Length: 668522, dtype: int64"
     },
     "execution_count": 5,
     "metadata": {},
     "output_type": "execute_result"
    }
   ],
   "source": [
    "training_dataset = training_dataset.drop(['stime'], axis=1)\n",
    "training_dataset = training_dataset.drop(['flgs'], axis=1)\n",
    "training_dataset = training_dataset.drop(['saddr'], axis=1)\n",
    "training_dataset = training_dataset.drop(['daddr'], axis=1)\n",
    "training_dataset = training_dataset.drop(['ltime'], axis=1)\n",
    "training_dataset = training_dataset.drop(['state'], axis=1)\n",
    "training_dataset\n",
    "#replacing values\n",
    "training_dataset['proto'] = training_dataset['proto'].replace(\n",
    "    {'udp': '0', 'tcp': '1', 'icmp': '2', 'arp': '3', 'ipv6-icmp': '4'})\n",
    "training_dataset['category'] = training_dataset['category'].replace(\n",
    "    {'DDoS': '0', 'Normal': '1', 'Reconnaissance': '2', 'Theft': '3'})\n",
    "training_dataset['subcategory'] = training_dataset['subcategory'].replace(\n",
    "    {'UDP': '0', 'Normal': '1', 'OS_Fingerprint': '2', 'Service_Scan': '3', 'Data_Exfiltration': '4',\n",
    "     'Keylogging': '5'})\n",
    "\n",
    "training_dataset\n",
    "#handling the infinite value\n",
    "training_dataset.replace([np.inf, -np.inf], np.nan, inplace=True)\n",
    "training_dataset.fillna(training_dataset.mean(), inplace=True)\n",
    "training_dataset\n",
    "y = training_dataset['attack']\n",
    "x = training_dataset.drop(['attack'], axis=1)\n",
    "x\n",
    "y"
   ]
  },
  {
   "cell_type": "code",
   "execution_count": 7,
   "id": "competent-stewart",
   "metadata": {},
   "outputs": [],
   "source": [
    "DT = DecisionTreeClassifier()"
   ]
  },
  {
   "cell_type": "code",
   "execution_count": 8,
   "id": "furnished-arena",
   "metadata": {},
   "outputs": [],
   "source": [
    "X_train, X_test, Y_train, Y_test = train_test_split(x, y, random_state=10, test_size=0.3)"
   ]
  },
  {
   "cell_type": "code",
   "execution_count": 9,
   "id": "sensitive-plastic",
   "metadata": {},
   "outputs": [
    {
     "name": "stdout",
     "output_type": "stream",
     "text": [
      "program start...\n",
      "\n",
      "\n",
      "prediction:\n",
      "[1 1 1 ... 1 1 1]\n",
      "\n",
      "Score:\n",
      "1.0\n",
      "program end...\n",
      "\n",
      "time cost: \n",
      "11.725216150283813 seconds\n"
     ]
    }
   ],
   "source": [
    "start = time.time()\n",
    "print('program start...')\n",
    "print()\n",
    "\n",
    "DT.fit(X_train, Y_train)\n",
    "print()\n",
    "\n",
    "print('prediction:')\n",
    "y_pred = DT.predict(X_test)\n",
    "print(y_pred)\n",
    "print()\n",
    "\n",
    "print('Score:')\n",
    "score = DT.score(X_test,Y_test)\n",
    "print(score)\n",
    "\n",
    "end = time.time()\n",
    "print('program end...')\n",
    "print()\n",
    "print('time cost: ')\n",
    "print(end - start, 'seconds')"
   ]
  },
  {
   "cell_type": "code",
   "execution_count": 10,
   "id": "indirect-immune",
   "metadata": {},
   "outputs": [
    {
     "name": "stdout",
     "output_type": "stream",
     "text": [
      "Classifiction Report :\n",
      "              precision    recall  f1-score   support\n",
      "\n",
      "           0       1.00      1.00      1.00       157\n",
      "           1       1.00      1.00      1.00    200400\n",
      "\n",
      "    accuracy                           1.00    200557\n",
      "   macro avg       1.00      1.00      1.00    200557\n",
      "weighted avg       1.00      1.00      1.00    200557\n",
      "\n"
     ]
    }
   ],
   "source": [
    "print(\"Classifiction Report :\")\n",
    "print(classification_report(Y_test, y_pred))"
   ]
  },
  {
   "cell_type": "code",
   "execution_count": null,
   "id": "juvenile-arrangement",
   "metadata": {},
   "outputs": [],
   "source": []
  }
 ],
 "metadata": {
  "kernelspec": {
   "display_name": "Python 3",
   "language": "python",
   "name": "python3"
  },
  "language_info": {
   "codemirror_mode": {
    "name": "ipython",
    "version": 3
   },
   "file_extension": ".py",
   "mimetype": "text/x-python",
   "name": "python",
   "nbconvert_exporter": "python",
   "pygments_lexer": "ipython3",
   "version": "3.8.5"
  }
 },
 "nbformat": 4,
 "nbformat_minor": 5
}