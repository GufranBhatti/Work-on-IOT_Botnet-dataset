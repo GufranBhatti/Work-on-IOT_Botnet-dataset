{
 "cells": [
  {
   "cell_type": "code",
   "execution_count": 1,
   "id": "interstate-borough",
   "metadata": {},
   "outputs": [],
   "source": [
    "import pandas as pd\n",
    "from sklearn.svm import SVC\n",
    "from sklearn.model_selection import GridSearchCV\n",
    "from sklearn.metrics import classification_report, confusion_matrix\n",
    "from sklearn.model_selection import train_test_split\n",
    "import time\n",
    "import numpy as np\n",
    "from sklearn.preprocessing import StandardScaler"
   ]
  },
  {
   "cell_type": "code",
   "execution_count": 2,
   "id": "specific-envelope",
   "metadata": {},
   "outputs": [],
   "source": [
    "filepath = \"C:/Users/gufra/OneDrive/Desktop/Detection-TonIoT23-main/UNSW_2018_IoT_Botnet_Full5pc_4.csv\""
   ]
  },
  {
   "cell_type": "code",
   "execution_count": 3,
   "id": "destroyed-effect",
   "metadata": {},
   "outputs": [],
   "source": [
    "training_dataset = pd.read_csv(filepath,nrows=600000)"
   ]
  },
  {
   "cell_type": "code",
   "execution_count": 4,
   "id": "adolescent-positive",
   "metadata": {},
   "outputs": [],
   "source": [
    "training_dataset = training_dataset.drop(['stime'], axis=1)\n",
    "training_dataset = training_dataset.drop(['flgs'], axis=1)\n",
    "training_dataset = training_dataset.drop(['saddr'], axis=1)\n",
    "training_dataset = training_dataset.drop(['daddr'], axis=1)\n",
    "training_dataset = training_dataset.drop(['ltime'], axis=1)\n",
    "training_dataset = training_dataset.drop(['state'], axis=1)\n",
    "training_dataset\n",
    "#replacing values\n",
    "training_dataset['proto'] = training_dataset['proto'].replace(\n",
    "    {'udp': '0', 'tcp': '1', 'icmp': '2', 'arp': '3', 'ipv6-icmp': '4'})\n",
    "training_dataset['category'] = training_dataset['category'].replace(\n",
    "    {'DDoS': '0', 'Normal': '1', 'Reconnaissance': '2', 'Theft': '3'})\n",
    "training_dataset['subcategory'] = training_dataset['subcategory'].replace(\n",
    "    {'UDP': '0', 'Normal': '1', 'OS_Fingerprint': '2', 'Service_Scan': '3', 'Data_Exfiltration': '4',\n",
    "     'Keylogging': '5'})\n"
   ]
  },
  {
   "cell_type": "code",
   "execution_count": 14,
   "outputs": [
    {
     "data": {
      "text/plain": "        pkSeqID  flgs_number proto  proto_number  sport  dport  pkts  bytes  \\\n0       3000001            1     0             3   6226     80    15    900   \n1       3000002            1     0             3   6227     80    15    900   \n2       3000003            1     0             3   6228     80    15    900   \n3       3000004            1     0             3   6229     80    15    900   \n4       3000005            1     0             3   6230     80    15    900   \n...         ...          ...   ...           ...    ...    ...   ...    ...   \n599995  3599996            1     0             3  39704  31625     1     60   \n599996  3599997            1     0             3  38759  31195     1     60   \n599997  3599998            6     0             3  35008   3401     1     60   \n599998  3599999            1     2             4    771  18701     1     70   \n599999  3600000            6     0             3  36529  37813     1     60   \n\n        state_number     seq  ...  AR_P_Proto_P_DstIP  N_IN_Conn_P_DstIP  \\\n0                  4  109223  ...             1.09825                100   \n1                  4  109224  ...             1.09825                100   \n2                  4  109225  ...             1.09825                100   \n3                  4  109226  ...             1.09825                100   \n4                  4  109227  ...             1.09825                100   \n...              ...     ...  ...                 ...                ...   \n599995             4    4780  ...         20788.50000                 58   \n599996             4    4781  ...         20788.50000                 58   \n599997             4    4782  ...         20788.50000                 58   \n599998             5    4783  ...             0.00000                 12   \n599999             4    4784  ...         20788.50000                 58   \n\n        N_IN_Conn_P_SrcIP  AR_P_Proto_P_Sport  AR_P_Proto_P_Dport  \\\n0                     100             1.09827             1.09825   \n1                     100             1.09827             1.09825   \n2                     100             1.09827             1.09825   \n3                     100             1.09827             1.09825   \n4                     100             1.09827             1.09825   \n...                   ...                 ...                 ...   \n599995                 14         27874.60000             0.00000   \n599996                 14         37383.20000             0.00000   \n599997                 15         24193.50000         16949.20000   \n599998                 42             0.00000             0.00000   \n599999                 15         25974.00000         20833.30000   \n\n        Pkts_P_State_P_Protocol_P_DestIP  Pkts_P_State_P_Protocol_P_SrcIP  \\\n0                                   1500                             1500   \n1                                   1500                             1500   \n2                                   1500                             1500   \n3                                   1500                             1500   \n4                                   1500                             1500   \n...                                  ...                              ...   \n599995                                58                               14   \n599996                                58                               14   \n599997                                58                               15   \n599998                                12                               42   \n599999                                58                               15   \n\n        attack  category  subcategory  \n0            1         0            0  \n1            1         0            0  \n2            1         0            0  \n3            1         0            0  \n4            1         0            0  \n...        ...       ...          ...  \n599995       1         2            3  \n599996       1         2            3  \n599997       1         2            3  \n599998       1         2            3  \n599999       1         2            3  \n\n[600000 rows x 40 columns]",
      "text/html": "<div>\n<style scoped>\n    .dataframe tbody tr th:only-of-type {\n        vertical-align: middle;\n    }\n\n    .dataframe tbody tr th {\n        vertical-align: top;\n    }\n\n    .dataframe thead th {\n        text-align: right;\n    }\n</style>\n<table border=\"1\" class=\"dataframe\">\n  <thead>\n    <tr style=\"text-align: right;\">\n      <th></th>\n      <th>pkSeqID</th>\n      <th>flgs_number</th>\n      <th>proto</th>\n      <th>proto_number</th>\n      <th>sport</th>\n      <th>dport</th>\n      <th>pkts</th>\n      <th>bytes</th>\n      <th>state_number</th>\n      <th>seq</th>\n      <th>...</th>\n      <th>AR_P_Proto_P_DstIP</th>\n      <th>N_IN_Conn_P_DstIP</th>\n      <th>N_IN_Conn_P_SrcIP</th>\n      <th>AR_P_Proto_P_Sport</th>\n      <th>AR_P_Proto_P_Dport</th>\n      <th>Pkts_P_State_P_Protocol_P_DestIP</th>\n      <th>Pkts_P_State_P_Protocol_P_SrcIP</th>\n      <th>attack</th>\n      <th>category</th>\n      <th>subcategory</th>\n    </tr>\n  </thead>\n  <tbody>\n    <tr>\n      <th>0</th>\n      <td>3000001</td>\n      <td>1</td>\n      <td>0</td>\n      <td>3</td>\n      <td>6226</td>\n      <td>80</td>\n      <td>15</td>\n      <td>900</td>\n      <td>4</td>\n      <td>109223</td>\n      <td>...</td>\n      <td>1.09825</td>\n      <td>100</td>\n      <td>100</td>\n      <td>1.09827</td>\n      <td>1.09825</td>\n      <td>1500</td>\n      <td>1500</td>\n      <td>1</td>\n      <td>0</td>\n      <td>0</td>\n    </tr>\n    <tr>\n      <th>1</th>\n      <td>3000002</td>\n      <td>1</td>\n      <td>0</td>\n      <td>3</td>\n      <td>6227</td>\n      <td>80</td>\n      <td>15</td>\n      <td>900</td>\n      <td>4</td>\n      <td>109224</td>\n      <td>...</td>\n      <td>1.09825</td>\n      <td>100</td>\n      <td>100</td>\n      <td>1.09827</td>\n      <td>1.09825</td>\n      <td>1500</td>\n      <td>1500</td>\n      <td>1</td>\n      <td>0</td>\n      <td>0</td>\n    </tr>\n    <tr>\n      <th>2</th>\n      <td>3000003</td>\n      <td>1</td>\n      <td>0</td>\n      <td>3</td>\n      <td>6228</td>\n      <td>80</td>\n      <td>15</td>\n      <td>900</td>\n      <td>4</td>\n      <td>109225</td>\n      <td>...</td>\n      <td>1.09825</td>\n      <td>100</td>\n      <td>100</td>\n      <td>1.09827</td>\n      <td>1.09825</td>\n      <td>1500</td>\n      <td>1500</td>\n      <td>1</td>\n      <td>0</td>\n      <td>0</td>\n    </tr>\n    <tr>\n      <th>3</th>\n      <td>3000004</td>\n      <td>1</td>\n      <td>0</td>\n      <td>3</td>\n      <td>6229</td>\n      <td>80</td>\n      <td>15</td>\n      <td>900</td>\n      <td>4</td>\n      <td>109226</td>\n      <td>...</td>\n      <td>1.09825</td>\n      <td>100</td>\n      <td>100</td>\n      <td>1.09827</td>\n      <td>1.09825</td>\n      <td>1500</td>\n      <td>1500</td>\n      <td>1</td>\n      <td>0</td>\n      <td>0</td>\n    </tr>\n    <tr>\n      <th>4</th>\n      <td>3000005</td>\n      <td>1</td>\n      <td>0</td>\n      <td>3</td>\n      <td>6230</td>\n      <td>80</td>\n      <td>15</td>\n      <td>900</td>\n      <td>4</td>\n      <td>109227</td>\n      <td>...</td>\n      <td>1.09825</td>\n      <td>100</td>\n      <td>100</td>\n      <td>1.09827</td>\n      <td>1.09825</td>\n      <td>1500</td>\n      <td>1500</td>\n      <td>1</td>\n      <td>0</td>\n      <td>0</td>\n    </tr>\n    <tr>\n      <th>...</th>\n      <td>...</td>\n      <td>...</td>\n      <td>...</td>\n      <td>...</td>\n      <td>...</td>\n      <td>...</td>\n      <td>...</td>\n      <td>...</td>\n      <td>...</td>\n      <td>...</td>\n      <td>...</td>\n      <td>...</td>\n      <td>...</td>\n      <td>...</td>\n      <td>...</td>\n      <td>...</td>\n      <td>...</td>\n      <td>...</td>\n      <td>...</td>\n      <td>...</td>\n      <td>...</td>\n    </tr>\n    <tr>\n      <th>599995</th>\n      <td>3599996</td>\n      <td>1</td>\n      <td>0</td>\n      <td>3</td>\n      <td>39704</td>\n      <td>31625</td>\n      <td>1</td>\n      <td>60</td>\n      <td>4</td>\n      <td>4780</td>\n      <td>...</td>\n      <td>20788.50000</td>\n      <td>58</td>\n      <td>14</td>\n      <td>27874.60000</td>\n      <td>0.00000</td>\n      <td>58</td>\n      <td>14</td>\n      <td>1</td>\n      <td>2</td>\n      <td>3</td>\n    </tr>\n    <tr>\n      <th>599996</th>\n      <td>3599997</td>\n      <td>1</td>\n      <td>0</td>\n      <td>3</td>\n      <td>38759</td>\n      <td>31195</td>\n      <td>1</td>\n      <td>60</td>\n      <td>4</td>\n      <td>4781</td>\n      <td>...</td>\n      <td>20788.50000</td>\n      <td>58</td>\n      <td>14</td>\n      <td>37383.20000</td>\n      <td>0.00000</td>\n      <td>58</td>\n      <td>14</td>\n      <td>1</td>\n      <td>2</td>\n      <td>3</td>\n    </tr>\n    <tr>\n      <th>599997</th>\n      <td>3599998</td>\n      <td>6</td>\n      <td>0</td>\n      <td>3</td>\n      <td>35008</td>\n      <td>3401</td>\n      <td>1</td>\n      <td>60</td>\n      <td>4</td>\n      <td>4782</td>\n      <td>...</td>\n      <td>20788.50000</td>\n      <td>58</td>\n      <td>15</td>\n      <td>24193.50000</td>\n      <td>16949.20000</td>\n      <td>58</td>\n      <td>15</td>\n      <td>1</td>\n      <td>2</td>\n      <td>3</td>\n    </tr>\n    <tr>\n      <th>599998</th>\n      <td>3599999</td>\n      <td>1</td>\n      <td>2</td>\n      <td>4</td>\n      <td>771</td>\n      <td>18701</td>\n      <td>1</td>\n      <td>70</td>\n      <td>5</td>\n      <td>4783</td>\n      <td>...</td>\n      <td>0.00000</td>\n      <td>12</td>\n      <td>42</td>\n      <td>0.00000</td>\n      <td>0.00000</td>\n      <td>12</td>\n      <td>42</td>\n      <td>1</td>\n      <td>2</td>\n      <td>3</td>\n    </tr>\n    <tr>\n      <th>599999</th>\n      <td>3600000</td>\n      <td>6</td>\n      <td>0</td>\n      <td>3</td>\n      <td>36529</td>\n      <td>37813</td>\n      <td>1</td>\n      <td>60</td>\n      <td>4</td>\n      <td>4784</td>\n      <td>...</td>\n      <td>20788.50000</td>\n      <td>58</td>\n      <td>15</td>\n      <td>25974.00000</td>\n      <td>20833.30000</td>\n      <td>58</td>\n      <td>15</td>\n      <td>1</td>\n      <td>2</td>\n      <td>3</td>\n    </tr>\n  </tbody>\n</table>\n<p>600000 rows × 40 columns</p>\n</div>"
     },
     "execution_count": 14,
     "metadata": {},
     "output_type": "execute_result"
    }
   ],
   "source": [
    "training_dataset"
   ],
   "metadata": {
    "collapsed": false,
    "pycharm": {
     "name": "#%%\n"
    }
   }
  },
  {
   "cell_type": "code",
   "execution_count": 5,
   "outputs": [
    {
     "data": {
      "text/plain": "        pkSeqID  flgs_number proto  proto_number  sport  dport  pkts  bytes  \\\n0       3000001            1     0             3   6226     80    15    900   \n1       3000002            1     0             3   6227     80    15    900   \n2       3000003            1     0             3   6228     80    15    900   \n3       3000004            1     0             3   6229     80    15    900   \n4       3000005            1     0             3   6230     80    15    900   \n...         ...          ...   ...           ...    ...    ...   ...    ...   \n599995  3599996            1     0             3  39704  31625     1     60   \n599996  3599997            1     0             3  38759  31195     1     60   \n599997  3599998            6     0             3  35008   3401     1     60   \n599998  3599999            1     2             4    771  18701     1     70   \n599999  3600000            6     0             3  36529  37813     1     60   \n\n        state_number     seq  ...  AR_P_Proto_P_DstIP  N_IN_Conn_P_DstIP  \\\n0                  4  109223  ...             1.09825                100   \n1                  4  109224  ...             1.09825                100   \n2                  4  109225  ...             1.09825                100   \n3                  4  109226  ...             1.09825                100   \n4                  4  109227  ...             1.09825                100   \n...              ...     ...  ...                 ...                ...   \n599995             4    4780  ...         20788.50000                 58   \n599996             4    4781  ...         20788.50000                 58   \n599997             4    4782  ...         20788.50000                 58   \n599998             5    4783  ...             0.00000                 12   \n599999             4    4784  ...         20788.50000                 58   \n\n        N_IN_Conn_P_SrcIP  AR_P_Proto_P_Sport  AR_P_Proto_P_Dport  \\\n0                     100             1.09827             1.09825   \n1                     100             1.09827             1.09825   \n2                     100             1.09827             1.09825   \n3                     100             1.09827             1.09825   \n4                     100             1.09827             1.09825   \n...                   ...                 ...                 ...   \n599995                 14         27874.60000             0.00000   \n599996                 14         37383.20000             0.00000   \n599997                 15         24193.50000         16949.20000   \n599998                 42             0.00000             0.00000   \n599999                 15         25974.00000         20833.30000   \n\n        Pkts_P_State_P_Protocol_P_DestIP  Pkts_P_State_P_Protocol_P_SrcIP  \\\n0                                   1500                             1500   \n1                                   1500                             1500   \n2                                   1500                             1500   \n3                                   1500                             1500   \n4                                   1500                             1500   \n...                                  ...                              ...   \n599995                                58                               14   \n599996                                58                               14   \n599997                                58                               15   \n599998                                12                               42   \n599999                                58                               15   \n\n        attack  category  subcategory  \n0            1         0            0  \n1            1         0            0  \n2            1         0            0  \n3            1         0            0  \n4            1         0            0  \n...        ...       ...          ...  \n599995       1         2            3  \n599996       1         2            3  \n599997       1         2            3  \n599998       1         2            3  \n599999       1         2            3  \n\n[600000 rows x 40 columns]",
      "text/html": "<div>\n<style scoped>\n    .dataframe tbody tr th:only-of-type {\n        vertical-align: middle;\n    }\n\n    .dataframe tbody tr th {\n        vertical-align: top;\n    }\n\n    .dataframe thead th {\n        text-align: right;\n    }\n</style>\n<table border=\"1\" class=\"dataframe\">\n  <thead>\n    <tr style=\"text-align: right;\">\n      <th></th>\n      <th>pkSeqID</th>\n      <th>flgs_number</th>\n      <th>proto</th>\n      <th>proto_number</th>\n      <th>sport</th>\n      <th>dport</th>\n      <th>pkts</th>\n      <th>bytes</th>\n      <th>state_number</th>\n      <th>seq</th>\n      <th>...</th>\n      <th>AR_P_Proto_P_DstIP</th>\n      <th>N_IN_Conn_P_DstIP</th>\n      <th>N_IN_Conn_P_SrcIP</th>\n      <th>AR_P_Proto_P_Sport</th>\n      <th>AR_P_Proto_P_Dport</th>\n      <th>Pkts_P_State_P_Protocol_P_DestIP</th>\n      <th>Pkts_P_State_P_Protocol_P_SrcIP</th>\n      <th>attack</th>\n      <th>category</th>\n      <th>subcategory</th>\n    </tr>\n  </thead>\n  <tbody>\n    <tr>\n      <th>0</th>\n      <td>3000001</td>\n      <td>1</td>\n      <td>0</td>\n      <td>3</td>\n      <td>6226</td>\n      <td>80</td>\n      <td>15</td>\n      <td>900</td>\n      <td>4</td>\n      <td>109223</td>\n      <td>...</td>\n      <td>1.09825</td>\n      <td>100</td>\n      <td>100</td>\n      <td>1.09827</td>\n      <td>1.09825</td>\n      <td>1500</td>\n      <td>1500</td>\n      <td>1</td>\n      <td>0</td>\n      <td>0</td>\n    </tr>\n    <tr>\n      <th>1</th>\n      <td>3000002</td>\n      <td>1</td>\n      <td>0</td>\n      <td>3</td>\n      <td>6227</td>\n      <td>80</td>\n      <td>15</td>\n      <td>900</td>\n      <td>4</td>\n      <td>109224</td>\n      <td>...</td>\n      <td>1.09825</td>\n      <td>100</td>\n      <td>100</td>\n      <td>1.09827</td>\n      <td>1.09825</td>\n      <td>1500</td>\n      <td>1500</td>\n      <td>1</td>\n      <td>0</td>\n      <td>0</td>\n    </tr>\n    <tr>\n      <th>2</th>\n      <td>3000003</td>\n      <td>1</td>\n      <td>0</td>\n      <td>3</td>\n      <td>6228</td>\n      <td>80</td>\n      <td>15</td>\n      <td>900</td>\n      <td>4</td>\n      <td>109225</td>\n      <td>...</td>\n      <td>1.09825</td>\n      <td>100</td>\n      <td>100</td>\n      <td>1.09827</td>\n      <td>1.09825</td>\n      <td>1500</td>\n      <td>1500</td>\n      <td>1</td>\n      <td>0</td>\n      <td>0</td>\n    </tr>\n    <tr>\n      <th>3</th>\n      <td>3000004</td>\n      <td>1</td>\n      <td>0</td>\n      <td>3</td>\n      <td>6229</td>\n      <td>80</td>\n      <td>15</td>\n      <td>900</td>\n      <td>4</td>\n      <td>109226</td>\n      <td>...</td>\n      <td>1.09825</td>\n      <td>100</td>\n      <td>100</td>\n      <td>1.09827</td>\n      <td>1.09825</td>\n      <td>1500</td>\n      <td>1500</td>\n      <td>1</td>\n      <td>0</td>\n      <td>0</td>\n    </tr>\n    <tr>\n      <th>4</th>\n      <td>3000005</td>\n      <td>1</td>\n      <td>0</td>\n      <td>3</td>\n      <td>6230</td>\n      <td>80</td>\n      <td>15</td>\n      <td>900</td>\n      <td>4</td>\n      <td>109227</td>\n      <td>...</td>\n      <td>1.09825</td>\n      <td>100</td>\n      <td>100</td>\n      <td>1.09827</td>\n      <td>1.09825</td>\n      <td>1500</td>\n      <td>1500</td>\n      <td>1</td>\n      <td>0</td>\n      <td>0</td>\n    </tr>\n    <tr>\n      <th>...</th>\n      <td>...</td>\n      <td>...</td>\n      <td>...</td>\n      <td>...</td>\n      <td>...</td>\n      <td>...</td>\n      <td>...</td>\n      <td>...</td>\n      <td>...</td>\n      <td>...</td>\n      <td>...</td>\n      <td>...</td>\n      <td>...</td>\n      <td>...</td>\n      <td>...</td>\n      <td>...</td>\n      <td>...</td>\n      <td>...</td>\n      <td>...</td>\n      <td>...</td>\n      <td>...</td>\n    </tr>\n    <tr>\n      <th>599995</th>\n      <td>3599996</td>\n      <td>1</td>\n      <td>0</td>\n      <td>3</td>\n      <td>39704</td>\n      <td>31625</td>\n      <td>1</td>\n      <td>60</td>\n      <td>4</td>\n      <td>4780</td>\n      <td>...</td>\n      <td>20788.50000</td>\n      <td>58</td>\n      <td>14</td>\n      <td>27874.60000</td>\n      <td>0.00000</td>\n      <td>58</td>\n      <td>14</td>\n      <td>1</td>\n      <td>2</td>\n      <td>3</td>\n    </tr>\n    <tr>\n      <th>599996</th>\n      <td>3599997</td>\n      <td>1</td>\n      <td>0</td>\n      <td>3</td>\n      <td>38759</td>\n      <td>31195</td>\n      <td>1</td>\n      <td>60</td>\n      <td>4</td>\n      <td>4781</td>\n      <td>...</td>\n      <td>20788.50000</td>\n      <td>58</td>\n      <td>14</td>\n      <td>37383.20000</td>\n      <td>0.00000</td>\n      <td>58</td>\n      <td>14</td>\n      <td>1</td>\n      <td>2</td>\n      <td>3</td>\n    </tr>\n    <tr>\n      <th>599997</th>\n      <td>3599998</td>\n      <td>6</td>\n      <td>0</td>\n      <td>3</td>\n      <td>35008</td>\n      <td>3401</td>\n      <td>1</td>\n      <td>60</td>\n      <td>4</td>\n      <td>4782</td>\n      <td>...</td>\n      <td>20788.50000</td>\n      <td>58</td>\n      <td>15</td>\n      <td>24193.50000</td>\n      <td>16949.20000</td>\n      <td>58</td>\n      <td>15</td>\n      <td>1</td>\n      <td>2</td>\n      <td>3</td>\n    </tr>\n    <tr>\n      <th>599998</th>\n      <td>3599999</td>\n      <td>1</td>\n      <td>2</td>\n      <td>4</td>\n      <td>771</td>\n      <td>18701</td>\n      <td>1</td>\n      <td>70</td>\n      <td>5</td>\n      <td>4783</td>\n      <td>...</td>\n      <td>0.00000</td>\n      <td>12</td>\n      <td>42</td>\n      <td>0.00000</td>\n      <td>0.00000</td>\n      <td>12</td>\n      <td>42</td>\n      <td>1</td>\n      <td>2</td>\n      <td>3</td>\n    </tr>\n    <tr>\n      <th>599999</th>\n      <td>3600000</td>\n      <td>6</td>\n      <td>0</td>\n      <td>3</td>\n      <td>36529</td>\n      <td>37813</td>\n      <td>1</td>\n      <td>60</td>\n      <td>4</td>\n      <td>4784</td>\n      <td>...</td>\n      <td>20788.50000</td>\n      <td>58</td>\n      <td>15</td>\n      <td>25974.00000</td>\n      <td>20833.30000</td>\n      <td>58</td>\n      <td>15</td>\n      <td>1</td>\n      <td>2</td>\n      <td>3</td>\n    </tr>\n  </tbody>\n</table>\n<p>600000 rows × 40 columns</p>\n</div>"
     },
     "execution_count": 5,
     "metadata": {},
     "output_type": "execute_result"
    }
   ],
   "source": [
    "#handling the infinite value\n",
    "training_dataset.replace([np.inf, -np.inf], np.nan, inplace=True)\n",
    "training_dataset.fillna(training_dataset.mean(), inplace=True)\n",
    "training_dataset\n"
   ],
   "metadata": {
    "collapsed": false,
    "pycharm": {
     "name": "#%%\n"
    }
   }
  },
  {
   "cell_type": "code",
   "execution_count": 6,
   "outputs": [
    {
     "data": {
      "text/plain": "        pkSeqID  flgs_number proto  proto_number  sport  dport  pkts  bytes  \\\n0       3000001            1     0             3   6226     80    15    900   \n1       3000002            1     0             3   6227     80    15    900   \n2       3000003            1     0             3   6228     80    15    900   \n3       3000004            1     0             3   6229     80    15    900   \n4       3000005            1     0             3   6230     80    15    900   \n...         ...          ...   ...           ...    ...    ...   ...    ...   \n599995  3599996            1     0             3  39704  31625     1     60   \n599996  3599997            1     0             3  38759  31195     1     60   \n599997  3599998            6     0             3  35008   3401     1     60   \n599998  3599999            1     2             4    771  18701     1     70   \n599999  3600000            6     0             3  36529  37813     1     60   \n\n        state_number     seq  ...  AR_P_Proto_P_SrcIP  AR_P_Proto_P_DstIP  \\\n0                  4  109223  ...             1.09825             1.09825   \n1                  4  109224  ...             1.09825             1.09825   \n2                  4  109225  ...             1.09825             1.09825   \n3                  4  109226  ...             1.09825             1.09825   \n4                  4  109227  ...             1.09825             1.09825   \n...              ...     ...  ...                 ...                 ...   \n599995             4    4780  ...         19337.00000         20788.50000   \n599996             4    4781  ...         23102.30000         20788.50000   \n599997             4    4782  ...         18703.20000         20788.50000   \n599998             5    4783  ...             0.00000             0.00000   \n599999             4    4784  ...         22796.40000         20788.50000   \n\n        N_IN_Conn_P_DstIP  N_IN_Conn_P_SrcIP  AR_P_Proto_P_Sport  \\\n0                     100                100             1.09827   \n1                     100                100             1.09827   \n2                     100                100             1.09827   \n3                     100                100             1.09827   \n4                     100                100             1.09827   \n...                   ...                ...                 ...   \n599995                 58                 14         27874.60000   \n599996                 58                 14         37383.20000   \n599997                 58                 15         24193.50000   \n599998                 12                 42             0.00000   \n599999                 58                 15         25974.00000   \n\n        AR_P_Proto_P_Dport  Pkts_P_State_P_Protocol_P_DestIP  \\\n0                  1.09825                              1500   \n1                  1.09825                              1500   \n2                  1.09825                              1500   \n3                  1.09825                              1500   \n4                  1.09825                              1500   \n...                    ...                               ...   \n599995             0.00000                                58   \n599996             0.00000                                58   \n599997         16949.20000                                58   \n599998             0.00000                                12   \n599999         20833.30000                                58   \n\n        Pkts_P_State_P_Protocol_P_SrcIP  category  subcategory  \n0                                  1500         0            0  \n1                                  1500         0            0  \n2                                  1500         0            0  \n3                                  1500         0            0  \n4                                  1500         0            0  \n...                                 ...       ...          ...  \n599995                               14         2            3  \n599996                               14         2            3  \n599997                               15         2            3  \n599998                               42         2            3  \n599999                               15         2            3  \n\n[600000 rows x 39 columns]",
      "text/html": "<div>\n<style scoped>\n    .dataframe tbody tr th:only-of-type {\n        vertical-align: middle;\n    }\n\n    .dataframe tbody tr th {\n        vertical-align: top;\n    }\n\n    .dataframe thead th {\n        text-align: right;\n    }\n</style>\n<table border=\"1\" class=\"dataframe\">\n  <thead>\n    <tr style=\"text-align: right;\">\n      <th></th>\n      <th>pkSeqID</th>\n      <th>flgs_number</th>\n      <th>proto</th>\n      <th>proto_number</th>\n      <th>sport</th>\n      <th>dport</th>\n      <th>pkts</th>\n      <th>bytes</th>\n      <th>state_number</th>\n      <th>seq</th>\n      <th>...</th>\n      <th>AR_P_Proto_P_SrcIP</th>\n      <th>AR_P_Proto_P_DstIP</th>\n      <th>N_IN_Conn_P_DstIP</th>\n      <th>N_IN_Conn_P_SrcIP</th>\n      <th>AR_P_Proto_P_Sport</th>\n      <th>AR_P_Proto_P_Dport</th>\n      <th>Pkts_P_State_P_Protocol_P_DestIP</th>\n      <th>Pkts_P_State_P_Protocol_P_SrcIP</th>\n      <th>category</th>\n      <th>subcategory</th>\n    </tr>\n  </thead>\n  <tbody>\n    <tr>\n      <th>0</th>\n      <td>3000001</td>\n      <td>1</td>\n      <td>0</td>\n      <td>3</td>\n      <td>6226</td>\n      <td>80</td>\n      <td>15</td>\n      <td>900</td>\n      <td>4</td>\n      <td>109223</td>\n      <td>...</td>\n      <td>1.09825</td>\n      <td>1.09825</td>\n      <td>100</td>\n      <td>100</td>\n      <td>1.09827</td>\n      <td>1.09825</td>\n      <td>1500</td>\n      <td>1500</td>\n      <td>0</td>\n      <td>0</td>\n    </tr>\n    <tr>\n      <th>1</th>\n      <td>3000002</td>\n      <td>1</td>\n      <td>0</td>\n      <td>3</td>\n      <td>6227</td>\n      <td>80</td>\n      <td>15</td>\n      <td>900</td>\n      <td>4</td>\n      <td>109224</td>\n      <td>...</td>\n      <td>1.09825</td>\n      <td>1.09825</td>\n      <td>100</td>\n      <td>100</td>\n      <td>1.09827</td>\n      <td>1.09825</td>\n      <td>1500</td>\n      <td>1500</td>\n      <td>0</td>\n      <td>0</td>\n    </tr>\n    <tr>\n      <th>2</th>\n      <td>3000003</td>\n      <td>1</td>\n      <td>0</td>\n      <td>3</td>\n      <td>6228</td>\n      <td>80</td>\n      <td>15</td>\n      <td>900</td>\n      <td>4</td>\n      <td>109225</td>\n      <td>...</td>\n      <td>1.09825</td>\n      <td>1.09825</td>\n      <td>100</td>\n      <td>100</td>\n      <td>1.09827</td>\n      <td>1.09825</td>\n      <td>1500</td>\n      <td>1500</td>\n      <td>0</td>\n      <td>0</td>\n    </tr>\n    <tr>\n      <th>3</th>\n      <td>3000004</td>\n      <td>1</td>\n      <td>0</td>\n      <td>3</td>\n      <td>6229</td>\n      <td>80</td>\n      <td>15</td>\n      <td>900</td>\n      <td>4</td>\n      <td>109226</td>\n      <td>...</td>\n      <td>1.09825</td>\n      <td>1.09825</td>\n      <td>100</td>\n      <td>100</td>\n      <td>1.09827</td>\n      <td>1.09825</td>\n      <td>1500</td>\n      <td>1500</td>\n      <td>0</td>\n      <td>0</td>\n    </tr>\n    <tr>\n      <th>4</th>\n      <td>3000005</td>\n      <td>1</td>\n      <td>0</td>\n      <td>3</td>\n      <td>6230</td>\n      <td>80</td>\n      <td>15</td>\n      <td>900</td>\n      <td>4</td>\n      <td>109227</td>\n      <td>...</td>\n      <td>1.09825</td>\n      <td>1.09825</td>\n      <td>100</td>\n      <td>100</td>\n      <td>1.09827</td>\n      <td>1.09825</td>\n      <td>1500</td>\n      <td>1500</td>\n      <td>0</td>\n      <td>0</td>\n    </tr>\n    <tr>\n      <th>...</th>\n      <td>...</td>\n      <td>...</td>\n      <td>...</td>\n      <td>...</td>\n      <td>...</td>\n      <td>...</td>\n      <td>...</td>\n      <td>...</td>\n      <td>...</td>\n      <td>...</td>\n      <td>...</td>\n      <td>...</td>\n      <td>...</td>\n      <td>...</td>\n      <td>...</td>\n      <td>...</td>\n      <td>...</td>\n      <td>...</td>\n      <td>...</td>\n      <td>...</td>\n      <td>...</td>\n    </tr>\n    <tr>\n      <th>599995</th>\n      <td>3599996</td>\n      <td>1</td>\n      <td>0</td>\n      <td>3</td>\n      <td>39704</td>\n      <td>31625</td>\n      <td>1</td>\n      <td>60</td>\n      <td>4</td>\n      <td>4780</td>\n      <td>...</td>\n      <td>19337.00000</td>\n      <td>20788.50000</td>\n      <td>58</td>\n      <td>14</td>\n      <td>27874.60000</td>\n      <td>0.00000</td>\n      <td>58</td>\n      <td>14</td>\n      <td>2</td>\n      <td>3</td>\n    </tr>\n    <tr>\n      <th>599996</th>\n      <td>3599997</td>\n      <td>1</td>\n      <td>0</td>\n      <td>3</td>\n      <td>38759</td>\n      <td>31195</td>\n      <td>1</td>\n      <td>60</td>\n      <td>4</td>\n      <td>4781</td>\n      <td>...</td>\n      <td>23102.30000</td>\n      <td>20788.50000</td>\n      <td>58</td>\n      <td>14</td>\n      <td>37383.20000</td>\n      <td>0.00000</td>\n      <td>58</td>\n      <td>14</td>\n      <td>2</td>\n      <td>3</td>\n    </tr>\n    <tr>\n      <th>599997</th>\n      <td>3599998</td>\n      <td>6</td>\n      <td>0</td>\n      <td>3</td>\n      <td>35008</td>\n      <td>3401</td>\n      <td>1</td>\n      <td>60</td>\n      <td>4</td>\n      <td>4782</td>\n      <td>...</td>\n      <td>18703.20000</td>\n      <td>20788.50000</td>\n      <td>58</td>\n      <td>15</td>\n      <td>24193.50000</td>\n      <td>16949.20000</td>\n      <td>58</td>\n      <td>15</td>\n      <td>2</td>\n      <td>3</td>\n    </tr>\n    <tr>\n      <th>599998</th>\n      <td>3599999</td>\n      <td>1</td>\n      <td>2</td>\n      <td>4</td>\n      <td>771</td>\n      <td>18701</td>\n      <td>1</td>\n      <td>70</td>\n      <td>5</td>\n      <td>4783</td>\n      <td>...</td>\n      <td>0.00000</td>\n      <td>0.00000</td>\n      <td>12</td>\n      <td>42</td>\n      <td>0.00000</td>\n      <td>0.00000</td>\n      <td>12</td>\n      <td>42</td>\n      <td>2</td>\n      <td>3</td>\n    </tr>\n    <tr>\n      <th>599999</th>\n      <td>3600000</td>\n      <td>6</td>\n      <td>0</td>\n      <td>3</td>\n      <td>36529</td>\n      <td>37813</td>\n      <td>1</td>\n      <td>60</td>\n      <td>4</td>\n      <td>4784</td>\n      <td>...</td>\n      <td>22796.40000</td>\n      <td>20788.50000</td>\n      <td>58</td>\n      <td>15</td>\n      <td>25974.00000</td>\n      <td>20833.30000</td>\n      <td>58</td>\n      <td>15</td>\n      <td>2</td>\n      <td>3</td>\n    </tr>\n  </tbody>\n</table>\n<p>600000 rows × 39 columns</p>\n</div>"
     },
     "execution_count": 6,
     "metadata": {},
     "output_type": "execute_result"
    }
   ],
   "source": [
    "y = training_dataset['attack']\n",
    "x = training_dataset.drop(['attack'], axis=1)\n",
    "x"
   ],
   "metadata": {
    "collapsed": false,
    "pycharm": {
     "name": "#%%\n"
    }
   }
  },
  {
   "cell_type": "code",
   "execution_count": 7,
   "id": "sonic-speed",
   "metadata": {},
   "outputs": [],
   "source": [
    "X_train, X_test, Y_train, Y_test = train_test_split(x, y, random_state=10, test_size=0.3)"
   ]
  },
  {
   "cell_type": "code",
   "execution_count": 8,
   "outputs": [
    {
     "data": {
      "text/plain": "428558    1\n321006    1\n29924     1\n385585    1\n522836    1\n         ..\n299741    1\n533660    1\n105595    1\n443712    1\n345353    1\nName: attack, Length: 420000, dtype: int64"
     },
     "execution_count": 8,
     "metadata": {},
     "output_type": "execute_result"
    }
   ],
   "source": [
    "Y_train"
   ],
   "metadata": {
    "collapsed": false,
    "pycharm": {
     "name": "#%%\n"
    }
   }
  },
  {
   "cell_type": "code",
   "execution_count": 9,
   "id": "competent-michael",
   "metadata": {},
   "outputs": [
    {
     "name": "stdout",
     "output_type": "stream",
     "text": [
      "program start...\n",
      "\n",
      "\n",
      "0.9993277777777778\n",
      "\n",
      "[1 1 1 ... 1 1 1]\n",
      "\n",
      "program end...\n",
      "\n",
      "time cost: \n",
      "163.385183095932 seconds\n"
     ]
    }
   ],
   "source": [
    "model = SVC()\n",
    "start = time.time()\n",
    "print('program start...')\n",
    "print()\n",
    "model.fit(X_train, Y_train)\n",
    "print()\n",
    "print(model.score(X_test, Y_test))\n",
    "print()\n",
    "\n",
    "y_pred = model.predict(X_test)\n",
    "print(y_pred)\n",
    "print()\n",
    "\n",
    "end = time.time()\n",
    "print('program end...')\n",
    "print()\n",
    "print('time cost: ')\n",
    "print(end - start, 'seconds')"
   ]
  },
  {
   "cell_type": "code",
   "execution_count": 10,
   "id": "religious-borough",
   "metadata": {},
   "outputs": [
    {
     "name": "stdout",
     "output_type": "stream",
     "text": [
      "Classifiction Report :\n",
      "              precision    recall  f1-score   support\n",
      "\n",
      "           0       1.00      0.23      0.38       158\n",
      "           1       1.00      1.00      1.00    179842\n",
      "\n",
      "    accuracy                           1.00    180000\n",
      "   macro avg       1.00      0.62      0.69    180000\n",
      "weighted avg       1.00      1.00      1.00    180000\n",
      "\n"
     ]
    }
   ],
   "source": [
    "print(\"Classifiction Report :\")\n",
    "print(classification_report(Y_test, y_pred))"
   ]
  },
  {
   "cell_type": "code",
   "execution_count": null,
   "id": "fundamental-constitution",
   "metadata": {},
   "outputs": [],
   "source": []
  },
  {
   "cell_type": "code",
   "execution_count": null,
   "id": "union-luther",
   "metadata": {},
   "outputs": [],
   "source": []
  },
  {
   "cell_type": "code",
   "execution_count": null,
   "id": "administrative-quantum",
   "metadata": {},
   "outputs": [],
   "source": []
  },
  {
   "cell_type": "code",
   "execution_count": null,
   "id": "cubic-orange",
   "metadata": {},
   "outputs": [],
   "source": []
  },
  {
   "cell_type": "code",
   "execution_count": null,
   "id": "gorgeous-candle",
   "metadata": {},
   "outputs": [],
   "source": []
  }
 ],
 "metadata": {
  "kernelspec": {
   "display_name": "Python 3",
   "language": "python",
   "name": "python3"
  },
  "language_info": {
   "codemirror_mode": {
    "name": "ipython",
    "version": 3
   },
   "file_extension": ".py",
   "mimetype": "text/x-python",
   "name": "python",
   "nbconvert_exporter": "python",
   "pygments_lexer": "ipython3",
   "version": "3.8.5"
  }
 },
 "nbformat": 4,
 "nbformat_minor": 5
}