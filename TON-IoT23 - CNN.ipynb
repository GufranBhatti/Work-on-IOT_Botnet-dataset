{
 "cells": [
  {
   "cell_type": "code",
   "execution_count": 7,
   "id": "floating-offense",
   "metadata": {
    "pycharm": {
     "name": "#%%\n"
    }
   },
   "outputs": [],
   "source": [
    "import numpy as np\n",
    "import pandas as pd\n",
    "import tensorflow as tf\n",
    "from matplotlib import pyplot\n",
    "from tensorflow.keras import Model\n",
    "from tensorflow.keras import Sequential\n",
    "from keras.models import Sequential, Model\n",
    "from tensorflow.keras.layers import Conv2D, Input, Dropout, Activation, Dense, MaxPooling2D, Flatten, GlobalAveragePooling2D\n",
    "from tensorflow.keras.optimizers import Adadelta\n",
    "from tensorflow.keras.callbacks import ModelCheckpoint\n",
    "from tensorflow.keras.layers import Dense\n",
    "from tensorflow.keras.layers import LSTM\n",
    "import sklearn\n",
    "from sklearn.preprocessing import MinMaxScaler"
   ]
  },
  {
   "cell_type": "code",
   "execution_count": 8,
   "id": "better-permit",
   "metadata": {
    "pycharm": {
     "name": "#%%\n"
    }
   },
   "outputs": [],
   "source": [
    "filepath = \"C:/Users/gufra/OneDrive/Desktop/Detection-TonIoT23-main/UNSW_2018_IoT_Botnet_Full5pc_4.csv\"\n",
    "training_dataset = pd.read_csv(filepath)"
   ]
  },
  {
   "cell_type": "code",
   "execution_count": 9,
   "id": "initial-biotechnology",
   "metadata": {
    "pycharm": {
     "name": "#%%\n"
    }
   },
   "outputs": [
    {
     "data": {
      "text/plain": "        pkSeqID         stime flgs  flgs_number proto  proto_number  \\\n0       3000001  1.528099e+09    e            1   udp             3   \n1       3000002  1.528099e+09    e            1   udp             3   \n2       3000003  1.528099e+09    e            1   udp             3   \n3       3000004  1.528099e+09    e            1   udp             3   \n4       3000005  1.528099e+09    e            1   udp             3   \n...         ...           ...  ...          ...   ...           ...   \n668517  3668518  1.529381e+09    e            1   tcp             1   \n668518  3668519  1.529381e+09    e            1   tcp             1   \n668519  3668520  1.529381e+09    e            1   tcp             1   \n668520  3668521  1.529381e+09    e            1   tcp             1   \n668521  3668522  1.529381e+09    e            1   arp             2   \n\n                  saddr  sport            daddr  dport  ...  \\\n0       192.168.100.147   6226    192.168.100.3     80  ...   \n1       192.168.100.147   6227    192.168.100.3     80  ...   \n2       192.168.100.147   6228    192.168.100.3     80  ...   \n3       192.168.100.147   6229    192.168.100.3     80  ...   \n4       192.168.100.147   6230    192.168.100.3     80  ...   \n...                 ...    ...              ...    ...  ...   \n668517  192.168.100.150  35064    192.168.100.3     22  ...   \n668518  192.168.100.150  35066    192.168.100.3     22  ...   \n668519  192.168.100.150  35070    192.168.100.3     22  ...   \n668520    192.168.100.3  43001  192.168.100.150   4433  ...   \n668521    192.168.100.3     -1  192.168.100.149     -1  ...   \n\n        AR_P_Proto_P_DstIP  N_IN_Conn_P_DstIP N_IN_Conn_P_SrcIP  \\\n0                 1.098250                100               100   \n1                 1.098250                100               100   \n2                 1.098250                100               100   \n3                 1.098250                100               100   \n4                 1.098250                100               100   \n...                    ...                ...               ...   \n668517            9.889330                 19                19   \n668518            9.889330                 19                19   \n668519            9.889330                 19                19   \n668520       666667.000000                  1                 3   \n668521            0.018868                  2                 3   \n\n        AR_P_Proto_P_Sport  AR_P_Proto_P_Dport  \\\n0                 1.098270            1.098250   \n1                 1.098270            1.098250   \n2                 1.098270            1.098250   \n3                 1.098270            1.098250   \n4                 1.098270            1.098250   \n...                    ...                 ...   \n668517          455.754000            9.889330   \n668518        10453.000000            9.889330   \n668519           10.785200            9.889330   \n668520       666667.000000        22346.400000   \n668521            0.018868            0.018868   \n\n        Pkts_P_State_P_Protocol_P_DestIP  Pkts_P_State_P_Protocol_P_SrcIP  \\\n0                                   1500                             1500   \n1                                   1500                             1500   \n2                                   1500                             1500   \n3                                   1500                             1500   \n4                                   1500                             1500   \n...                                  ...                              ...   \n668517                                30                               30   \n668518                                30                               30   \n668519                               441                              441   \n668520                                 2                                4   \n668521                                16                               16   \n\n        attack  category  subcategory  \n0            1      DDoS          UDP  \n1            1      DDoS          UDP  \n2            1      DDoS          UDP  \n3            1      DDoS          UDP  \n4            1      DDoS          UDP  \n...        ...       ...          ...  \n668517       1     Theft   Keylogging  \n668518       1     Theft   Keylogging  \n668519       1     Theft   Keylogging  \n668520       1     Theft   Keylogging  \n668521       1     Theft   Keylogging  \n\n[668522 rows x 46 columns]",
      "text/html": "<div>\n<style scoped>\n    .dataframe tbody tr th:only-of-type {\n        vertical-align: middle;\n    }\n\n    .dataframe tbody tr th {\n        vertical-align: top;\n    }\n\n    .dataframe thead th {\n        text-align: right;\n    }\n</style>\n<table border=\"1\" class=\"dataframe\">\n  <thead>\n    <tr style=\"text-align: right;\">\n      <th></th>\n      <th>pkSeqID</th>\n      <th>stime</th>\n      <th>flgs</th>\n      <th>flgs_number</th>\n      <th>proto</th>\n      <th>proto_number</th>\n      <th>saddr</th>\n      <th>sport</th>\n      <th>daddr</th>\n      <th>dport</th>\n      <th>...</th>\n      <th>AR_P_Proto_P_DstIP</th>\n      <th>N_IN_Conn_P_DstIP</th>\n      <th>N_IN_Conn_P_SrcIP</th>\n      <th>AR_P_Proto_P_Sport</th>\n      <th>AR_P_Proto_P_Dport</th>\n      <th>Pkts_P_State_P_Protocol_P_DestIP</th>\n      <th>Pkts_P_State_P_Protocol_P_SrcIP</th>\n      <th>attack</th>\n      <th>category</th>\n      <th>subcategory</th>\n    </tr>\n  </thead>\n  <tbody>\n    <tr>\n      <th>0</th>\n      <td>3000001</td>\n      <td>1.528099e+09</td>\n      <td>e</td>\n      <td>1</td>\n      <td>udp</td>\n      <td>3</td>\n      <td>192.168.100.147</td>\n      <td>6226</td>\n      <td>192.168.100.3</td>\n      <td>80</td>\n      <td>...</td>\n      <td>1.098250</td>\n      <td>100</td>\n      <td>100</td>\n      <td>1.098270</td>\n      <td>1.098250</td>\n      <td>1500</td>\n      <td>1500</td>\n      <td>1</td>\n      <td>DDoS</td>\n      <td>UDP</td>\n    </tr>\n    <tr>\n      <th>1</th>\n      <td>3000002</td>\n      <td>1.528099e+09</td>\n      <td>e</td>\n      <td>1</td>\n      <td>udp</td>\n      <td>3</td>\n      <td>192.168.100.147</td>\n      <td>6227</td>\n      <td>192.168.100.3</td>\n      <td>80</td>\n      <td>...</td>\n      <td>1.098250</td>\n      <td>100</td>\n      <td>100</td>\n      <td>1.098270</td>\n      <td>1.098250</td>\n      <td>1500</td>\n      <td>1500</td>\n      <td>1</td>\n      <td>DDoS</td>\n      <td>UDP</td>\n    </tr>\n    <tr>\n      <th>2</th>\n      <td>3000003</td>\n      <td>1.528099e+09</td>\n      <td>e</td>\n      <td>1</td>\n      <td>udp</td>\n      <td>3</td>\n      <td>192.168.100.147</td>\n      <td>6228</td>\n      <td>192.168.100.3</td>\n      <td>80</td>\n      <td>...</td>\n      <td>1.098250</td>\n      <td>100</td>\n      <td>100</td>\n      <td>1.098270</td>\n      <td>1.098250</td>\n      <td>1500</td>\n      <td>1500</td>\n      <td>1</td>\n      <td>DDoS</td>\n      <td>UDP</td>\n    </tr>\n    <tr>\n      <th>3</th>\n      <td>3000004</td>\n      <td>1.528099e+09</td>\n      <td>e</td>\n      <td>1</td>\n      <td>udp</td>\n      <td>3</td>\n      <td>192.168.100.147</td>\n      <td>6229</td>\n      <td>192.168.100.3</td>\n      <td>80</td>\n      <td>...</td>\n      <td>1.098250</td>\n      <td>100</td>\n      <td>100</td>\n      <td>1.098270</td>\n      <td>1.098250</td>\n      <td>1500</td>\n      <td>1500</td>\n      <td>1</td>\n      <td>DDoS</td>\n      <td>UDP</td>\n    </tr>\n    <tr>\n      <th>4</th>\n      <td>3000005</td>\n      <td>1.528099e+09</td>\n      <td>e</td>\n      <td>1</td>\n      <td>udp</td>\n      <td>3</td>\n      <td>192.168.100.147</td>\n      <td>6230</td>\n      <td>192.168.100.3</td>\n      <td>80</td>\n      <td>...</td>\n      <td>1.098250</td>\n      <td>100</td>\n      <td>100</td>\n      <td>1.098270</td>\n      <td>1.098250</td>\n      <td>1500</td>\n      <td>1500</td>\n      <td>1</td>\n      <td>DDoS</td>\n      <td>UDP</td>\n    </tr>\n    <tr>\n      <th>...</th>\n      <td>...</td>\n      <td>...</td>\n      <td>...</td>\n      <td>...</td>\n      <td>...</td>\n      <td>...</td>\n      <td>...</td>\n      <td>...</td>\n      <td>...</td>\n      <td>...</td>\n      <td>...</td>\n      <td>...</td>\n      <td>...</td>\n      <td>...</td>\n      <td>...</td>\n      <td>...</td>\n      <td>...</td>\n      <td>...</td>\n      <td>...</td>\n      <td>...</td>\n      <td>...</td>\n    </tr>\n    <tr>\n      <th>668517</th>\n      <td>3668518</td>\n      <td>1.529381e+09</td>\n      <td>e</td>\n      <td>1</td>\n      <td>tcp</td>\n      <td>1</td>\n      <td>192.168.100.150</td>\n      <td>35064</td>\n      <td>192.168.100.3</td>\n      <td>22</td>\n      <td>...</td>\n      <td>9.889330</td>\n      <td>19</td>\n      <td>19</td>\n      <td>455.754000</td>\n      <td>9.889330</td>\n      <td>30</td>\n      <td>30</td>\n      <td>1</td>\n      <td>Theft</td>\n      <td>Keylogging</td>\n    </tr>\n    <tr>\n      <th>668518</th>\n      <td>3668519</td>\n      <td>1.529381e+09</td>\n      <td>e</td>\n      <td>1</td>\n      <td>tcp</td>\n      <td>1</td>\n      <td>192.168.100.150</td>\n      <td>35066</td>\n      <td>192.168.100.3</td>\n      <td>22</td>\n      <td>...</td>\n      <td>9.889330</td>\n      <td>19</td>\n      <td>19</td>\n      <td>10453.000000</td>\n      <td>9.889330</td>\n      <td>30</td>\n      <td>30</td>\n      <td>1</td>\n      <td>Theft</td>\n      <td>Keylogging</td>\n    </tr>\n    <tr>\n      <th>668519</th>\n      <td>3668520</td>\n      <td>1.529381e+09</td>\n      <td>e</td>\n      <td>1</td>\n      <td>tcp</td>\n      <td>1</td>\n      <td>192.168.100.150</td>\n      <td>35070</td>\n      <td>192.168.100.3</td>\n      <td>22</td>\n      <td>...</td>\n      <td>9.889330</td>\n      <td>19</td>\n      <td>19</td>\n      <td>10.785200</td>\n      <td>9.889330</td>\n      <td>441</td>\n      <td>441</td>\n      <td>1</td>\n      <td>Theft</td>\n      <td>Keylogging</td>\n    </tr>\n    <tr>\n      <th>668520</th>\n      <td>3668521</td>\n      <td>1.529381e+09</td>\n      <td>e</td>\n      <td>1</td>\n      <td>tcp</td>\n      <td>1</td>\n      <td>192.168.100.3</td>\n      <td>43001</td>\n      <td>192.168.100.150</td>\n      <td>4433</td>\n      <td>...</td>\n      <td>666667.000000</td>\n      <td>1</td>\n      <td>3</td>\n      <td>666667.000000</td>\n      <td>22346.400000</td>\n      <td>2</td>\n      <td>4</td>\n      <td>1</td>\n      <td>Theft</td>\n      <td>Keylogging</td>\n    </tr>\n    <tr>\n      <th>668521</th>\n      <td>3668522</td>\n      <td>1.529381e+09</td>\n      <td>e</td>\n      <td>1</td>\n      <td>arp</td>\n      <td>2</td>\n      <td>192.168.100.3</td>\n      <td>-1</td>\n      <td>192.168.100.149</td>\n      <td>-1</td>\n      <td>...</td>\n      <td>0.018868</td>\n      <td>2</td>\n      <td>3</td>\n      <td>0.018868</td>\n      <td>0.018868</td>\n      <td>16</td>\n      <td>16</td>\n      <td>1</td>\n      <td>Theft</td>\n      <td>Keylogging</td>\n    </tr>\n  </tbody>\n</table>\n<p>668522 rows × 46 columns</p>\n</div>"
     },
     "execution_count": 9,
     "metadata": {},
     "output_type": "execute_result"
    }
   ],
   "source": [
    "training_dataset"
   ]
  },
  {
   "cell_type": "code",
   "execution_count": 10,
   "id": "paperback-heritage",
   "metadata": {
    "pycharm": {
     "name": "#%%\n"
    }
   },
   "outputs": [],
   "source": [
    "#dropping columns\n",
    "training_dataset=training_dataset.drop(['stime'],axis=1)\n",
    "training_dataset=training_dataset.drop(['flgs'],axis=1)\n",
    "training_dataset=training_dataset.drop(['saddr'],axis=1)\n",
    "training_dataset=training_dataset.drop(['daddr'],axis=1)\n",
    "training_dataset=training_dataset.drop(['ltime'],axis=1)\n",
    "training_dataset=training_dataset.drop(['state'],axis=1)"
   ]
  },
  {
   "cell_type": "code",
   "execution_count": 11,
   "id": "inside-north",
   "metadata": {
    "pycharm": {
     "name": "#%%\n"
    }
   },
   "outputs": [
    {
     "data": {
      "text/plain": "        pkSeqID  flgs_number proto  proto_number  sport  dport  pkts  bytes  \\\n0       3000001            1   udp             3   6226     80    15    900   \n1       3000002            1   udp             3   6227     80    15    900   \n2       3000003            1   udp             3   6228     80    15    900   \n3       3000004            1   udp             3   6229     80    15    900   \n4       3000005            1   udp             3   6230     80    15    900   \n...         ...          ...   ...           ...    ...    ...   ...    ...   \n668517  3668518            1   tcp             1  35064     22     6    434   \n668518  3668519            1   tcp             1  35066     22     6    434   \n668519  3668520            1   tcp             1  35070     22    31   5472   \n668520  3668521            1   tcp             1  43001   4433     2    134   \n668521  3668522            1   arp             2     -1     -1    16    960   \n\n        state_number     seq  ...  AR_P_Proto_P_DstIP  N_IN_Conn_P_DstIP  \\\n0                  4  109223  ...            1.098250                100   \n1                  4  109224  ...            1.098250                100   \n2                  4  109225  ...            1.098250                100   \n3                  4  109226  ...            1.098250                100   \n4                  4  109227  ...            1.098250                100   \n...              ...     ...  ...                 ...                ...   \n668517             1      81  ...            9.889330                 19   \n668518             1      82  ...            9.889330                 19   \n668519             6      84  ...            9.889330                 19   \n668520             1      85  ...       666667.000000                  1   \n668521             2      10  ...            0.018868                  2   \n\n        N_IN_Conn_P_SrcIP  AR_P_Proto_P_Sport  AR_P_Proto_P_Dport  \\\n0                     100            1.098270            1.098250   \n1                     100            1.098270            1.098250   \n2                     100            1.098270            1.098250   \n3                     100            1.098270            1.098250   \n4                     100            1.098270            1.098250   \n...                   ...                 ...                 ...   \n668517                 19          455.754000            9.889330   \n668518                 19        10453.000000            9.889330   \n668519                 19           10.785200            9.889330   \n668520                  3       666667.000000        22346.400000   \n668521                  3            0.018868            0.018868   \n\n        Pkts_P_State_P_Protocol_P_DestIP  Pkts_P_State_P_Protocol_P_SrcIP  \\\n0                                   1500                             1500   \n1                                   1500                             1500   \n2                                   1500                             1500   \n3                                   1500                             1500   \n4                                   1500                             1500   \n...                                  ...                              ...   \n668517                                30                               30   \n668518                                30                               30   \n668519                               441                              441   \n668520                                 2                                4   \n668521                                16                               16   \n\n        attack  category  subcategory  \n0            1      DDoS          UDP  \n1            1      DDoS          UDP  \n2            1      DDoS          UDP  \n3            1      DDoS          UDP  \n4            1      DDoS          UDP  \n...        ...       ...          ...  \n668517       1     Theft   Keylogging  \n668518       1     Theft   Keylogging  \n668519       1     Theft   Keylogging  \n668520       1     Theft   Keylogging  \n668521       1     Theft   Keylogging  \n\n[668522 rows x 40 columns]",
      "text/html": "<div>\n<style scoped>\n    .dataframe tbody tr th:only-of-type {\n        vertical-align: middle;\n    }\n\n    .dataframe tbody tr th {\n        vertical-align: top;\n    }\n\n    .dataframe thead th {\n        text-align: right;\n    }\n</style>\n<table border=\"1\" class=\"dataframe\">\n  <thead>\n    <tr style=\"text-align: right;\">\n      <th></th>\n      <th>pkSeqID</th>\n      <th>flgs_number</th>\n      <th>proto</th>\n      <th>proto_number</th>\n      <th>sport</th>\n      <th>dport</th>\n      <th>pkts</th>\n      <th>bytes</th>\n      <th>state_number</th>\n      <th>seq</th>\n      <th>...</th>\n      <th>AR_P_Proto_P_DstIP</th>\n      <th>N_IN_Conn_P_DstIP</th>\n      <th>N_IN_Conn_P_SrcIP</th>\n      <th>AR_P_Proto_P_Sport</th>\n      <th>AR_P_Proto_P_Dport</th>\n      <th>Pkts_P_State_P_Protocol_P_DestIP</th>\n      <th>Pkts_P_State_P_Protocol_P_SrcIP</th>\n      <th>attack</th>\n      <th>category</th>\n      <th>subcategory</th>\n    </tr>\n  </thead>\n  <tbody>\n    <tr>\n      <th>0</th>\n      <td>3000001</td>\n      <td>1</td>\n      <td>udp</td>\n      <td>3</td>\n      <td>6226</td>\n      <td>80</td>\n      <td>15</td>\n      <td>900</td>\n      <td>4</td>\n      <td>109223</td>\n      <td>...</td>\n      <td>1.098250</td>\n      <td>100</td>\n      <td>100</td>\n      <td>1.098270</td>\n      <td>1.098250</td>\n      <td>1500</td>\n      <td>1500</td>\n      <td>1</td>\n      <td>DDoS</td>\n      <td>UDP</td>\n    </tr>\n    <tr>\n      <th>1</th>\n      <td>3000002</td>\n      <td>1</td>\n      <td>udp</td>\n      <td>3</td>\n      <td>6227</td>\n      <td>80</td>\n      <td>15</td>\n      <td>900</td>\n      <td>4</td>\n      <td>109224</td>\n      <td>...</td>\n      <td>1.098250</td>\n      <td>100</td>\n      <td>100</td>\n      <td>1.098270</td>\n      <td>1.098250</td>\n      <td>1500</td>\n      <td>1500</td>\n      <td>1</td>\n      <td>DDoS</td>\n      <td>UDP</td>\n    </tr>\n    <tr>\n      <th>2</th>\n      <td>3000003</td>\n      <td>1</td>\n      <td>udp</td>\n      <td>3</td>\n      <td>6228</td>\n      <td>80</td>\n      <td>15</td>\n      <td>900</td>\n      <td>4</td>\n      <td>109225</td>\n      <td>...</td>\n      <td>1.098250</td>\n      <td>100</td>\n      <td>100</td>\n      <td>1.098270</td>\n      <td>1.098250</td>\n      <td>1500</td>\n      <td>1500</td>\n      <td>1</td>\n      <td>DDoS</td>\n      <td>UDP</td>\n    </tr>\n    <tr>\n      <th>3</th>\n      <td>3000004</td>\n      <td>1</td>\n      <td>udp</td>\n      <td>3</td>\n      <td>6229</td>\n      <td>80</td>\n      <td>15</td>\n      <td>900</td>\n      <td>4</td>\n      <td>109226</td>\n      <td>...</td>\n      <td>1.098250</td>\n      <td>100</td>\n      <td>100</td>\n      <td>1.098270</td>\n      <td>1.098250</td>\n      <td>1500</td>\n      <td>1500</td>\n      <td>1</td>\n      <td>DDoS</td>\n      <td>UDP</td>\n    </tr>\n    <tr>\n      <th>4</th>\n      <td>3000005</td>\n      <td>1</td>\n      <td>udp</td>\n      <td>3</td>\n      <td>6230</td>\n      <td>80</td>\n      <td>15</td>\n      <td>900</td>\n      <td>4</td>\n      <td>109227</td>\n      <td>...</td>\n      <td>1.098250</td>\n      <td>100</td>\n      <td>100</td>\n      <td>1.098270</td>\n      <td>1.098250</td>\n      <td>1500</td>\n      <td>1500</td>\n      <td>1</td>\n      <td>DDoS</td>\n      <td>UDP</td>\n    </tr>\n    <tr>\n      <th>...</th>\n      <td>...</td>\n      <td>...</td>\n      <td>...</td>\n      <td>...</td>\n      <td>...</td>\n      <td>...</td>\n      <td>...</td>\n      <td>...</td>\n      <td>...</td>\n      <td>...</td>\n      <td>...</td>\n      <td>...</td>\n      <td>...</td>\n      <td>...</td>\n      <td>...</td>\n      <td>...</td>\n      <td>...</td>\n      <td>...</td>\n      <td>...</td>\n      <td>...</td>\n      <td>...</td>\n    </tr>\n    <tr>\n      <th>668517</th>\n      <td>3668518</td>\n      <td>1</td>\n      <td>tcp</td>\n      <td>1</td>\n      <td>35064</td>\n      <td>22</td>\n      <td>6</td>\n      <td>434</td>\n      <td>1</td>\n      <td>81</td>\n      <td>...</td>\n      <td>9.889330</td>\n      <td>19</td>\n      <td>19</td>\n      <td>455.754000</td>\n      <td>9.889330</td>\n      <td>30</td>\n      <td>30</td>\n      <td>1</td>\n      <td>Theft</td>\n      <td>Keylogging</td>\n    </tr>\n    <tr>\n      <th>668518</th>\n      <td>3668519</td>\n      <td>1</td>\n      <td>tcp</td>\n      <td>1</td>\n      <td>35066</td>\n      <td>22</td>\n      <td>6</td>\n      <td>434</td>\n      <td>1</td>\n      <td>82</td>\n      <td>...</td>\n      <td>9.889330</td>\n      <td>19</td>\n      <td>19</td>\n      <td>10453.000000</td>\n      <td>9.889330</td>\n      <td>30</td>\n      <td>30</td>\n      <td>1</td>\n      <td>Theft</td>\n      <td>Keylogging</td>\n    </tr>\n    <tr>\n      <th>668519</th>\n      <td>3668520</td>\n      <td>1</td>\n      <td>tcp</td>\n      <td>1</td>\n      <td>35070</td>\n      <td>22</td>\n      <td>31</td>\n      <td>5472</td>\n      <td>6</td>\n      <td>84</td>\n      <td>...</td>\n      <td>9.889330</td>\n      <td>19</td>\n      <td>19</td>\n      <td>10.785200</td>\n      <td>9.889330</td>\n      <td>441</td>\n      <td>441</td>\n      <td>1</td>\n      <td>Theft</td>\n      <td>Keylogging</td>\n    </tr>\n    <tr>\n      <th>668520</th>\n      <td>3668521</td>\n      <td>1</td>\n      <td>tcp</td>\n      <td>1</td>\n      <td>43001</td>\n      <td>4433</td>\n      <td>2</td>\n      <td>134</td>\n      <td>1</td>\n      <td>85</td>\n      <td>...</td>\n      <td>666667.000000</td>\n      <td>1</td>\n      <td>3</td>\n      <td>666667.000000</td>\n      <td>22346.400000</td>\n      <td>2</td>\n      <td>4</td>\n      <td>1</td>\n      <td>Theft</td>\n      <td>Keylogging</td>\n    </tr>\n    <tr>\n      <th>668521</th>\n      <td>3668522</td>\n      <td>1</td>\n      <td>arp</td>\n      <td>2</td>\n      <td>-1</td>\n      <td>-1</td>\n      <td>16</td>\n      <td>960</td>\n      <td>2</td>\n      <td>10</td>\n      <td>...</td>\n      <td>0.018868</td>\n      <td>2</td>\n      <td>3</td>\n      <td>0.018868</td>\n      <td>0.018868</td>\n      <td>16</td>\n      <td>16</td>\n      <td>1</td>\n      <td>Theft</td>\n      <td>Keylogging</td>\n    </tr>\n  </tbody>\n</table>\n<p>668522 rows × 40 columns</p>\n</div>"
     },
     "execution_count": 11,
     "metadata": {},
     "output_type": "execute_result"
    }
   ],
   "source": [
    "training_dataset"
   ]
  },
  {
   "cell_type": "code",
   "execution_count": 12,
   "id": "average-mechanics",
   "metadata": {
    "pycharm": {
     "name": "#%%\n"
    }
   },
   "outputs": [],
   "source": [
    "#replacing values\n",
    "training_dataset['proto']=training_dataset['proto'].replace({'udp':'0','tcp':'1','icmp':'2','arp':'3','ipv6-icmp':'4'})\n",
    "training_dataset['category']=training_dataset['category'].replace({'DDoS':'0','Normal':'1','Reconnaissance':'2','Theft':'3'})\n",
    "training_dataset['subcategory']=training_dataset['subcategory'].replace({'UDP':'0','Normal':'1','OS_Fingerprint':'2','Service_Scan':'3','Data_Exfiltration':'4','Keylogging':'5'})\n"
   ]
  },
  {
   "cell_type": "code",
   "execution_count": 13,
   "id": "steady-hotel",
   "metadata": {
    "pycharm": {
     "name": "#%%\n"
    }
   },
   "outputs": [
    {
     "data": {
      "text/plain": "        pkSeqID  flgs_number proto  proto_number  sport  dport  pkts  bytes  \\\n0       3000001            1     0             3   6226     80    15    900   \n1       3000002            1     0             3   6227     80    15    900   \n2       3000003            1     0             3   6228     80    15    900   \n3       3000004            1     0             3   6229     80    15    900   \n4       3000005            1     0             3   6230     80    15    900   \n...         ...          ...   ...           ...    ...    ...   ...    ...   \n668517  3668518            1     1             1  35064     22     6    434   \n668518  3668519            1     1             1  35066     22     6    434   \n668519  3668520            1     1             1  35070     22    31   5472   \n668520  3668521            1     1             1  43001   4433     2    134   \n668521  3668522            1     3             2     -1     -1    16    960   \n\n        state_number     seq  ...  AR_P_Proto_P_DstIP  N_IN_Conn_P_DstIP  \\\n0                  4  109223  ...            1.098250                100   \n1                  4  109224  ...            1.098250                100   \n2                  4  109225  ...            1.098250                100   \n3                  4  109226  ...            1.098250                100   \n4                  4  109227  ...            1.098250                100   \n...              ...     ...  ...                 ...                ...   \n668517             1      81  ...            9.889330                 19   \n668518             1      82  ...            9.889330                 19   \n668519             6      84  ...            9.889330                 19   \n668520             1      85  ...       666667.000000                  1   \n668521             2      10  ...            0.018868                  2   \n\n        N_IN_Conn_P_SrcIP  AR_P_Proto_P_Sport  AR_P_Proto_P_Dport  \\\n0                     100            1.098270            1.098250   \n1                     100            1.098270            1.098250   \n2                     100            1.098270            1.098250   \n3                     100            1.098270            1.098250   \n4                     100            1.098270            1.098250   \n...                   ...                 ...                 ...   \n668517                 19          455.754000            9.889330   \n668518                 19        10453.000000            9.889330   \n668519                 19           10.785200            9.889330   \n668520                  3       666667.000000        22346.400000   \n668521                  3            0.018868            0.018868   \n\n        Pkts_P_State_P_Protocol_P_DestIP  Pkts_P_State_P_Protocol_P_SrcIP  \\\n0                                   1500                             1500   \n1                                   1500                             1500   \n2                                   1500                             1500   \n3                                   1500                             1500   \n4                                   1500                             1500   \n...                                  ...                              ...   \n668517                                30                               30   \n668518                                30                               30   \n668519                               441                              441   \n668520                                 2                                4   \n668521                                16                               16   \n\n        attack  category  subcategory  \n0            1         0            0  \n1            1         0            0  \n2            1         0            0  \n3            1         0            0  \n4            1         0            0  \n...        ...       ...          ...  \n668517       1         3            5  \n668518       1         3            5  \n668519       1         3            5  \n668520       1         3            5  \n668521       1         3            5  \n\n[668522 rows x 40 columns]",
      "text/html": "<div>\n<style scoped>\n    .dataframe tbody tr th:only-of-type {\n        vertical-align: middle;\n    }\n\n    .dataframe tbody tr th {\n        vertical-align: top;\n    }\n\n    .dataframe thead th {\n        text-align: right;\n    }\n</style>\n<table border=\"1\" class=\"dataframe\">\n  <thead>\n    <tr style=\"text-align: right;\">\n      <th></th>\n      <th>pkSeqID</th>\n      <th>flgs_number</th>\n      <th>proto</th>\n      <th>proto_number</th>\n      <th>sport</th>\n      <th>dport</th>\n      <th>pkts</th>\n      <th>bytes</th>\n      <th>state_number</th>\n      <th>seq</th>\n      <th>...</th>\n      <th>AR_P_Proto_P_DstIP</th>\n      <th>N_IN_Conn_P_DstIP</th>\n      <th>N_IN_Conn_P_SrcIP</th>\n      <th>AR_P_Proto_P_Sport</th>\n      <th>AR_P_Proto_P_Dport</th>\n      <th>Pkts_P_State_P_Protocol_P_DestIP</th>\n      <th>Pkts_P_State_P_Protocol_P_SrcIP</th>\n      <th>attack</th>\n      <th>category</th>\n      <th>subcategory</th>\n    </tr>\n  </thead>\n  <tbody>\n    <tr>\n      <th>0</th>\n      <td>3000001</td>\n      <td>1</td>\n      <td>0</td>\n      <td>3</td>\n      <td>6226</td>\n      <td>80</td>\n      <td>15</td>\n      <td>900</td>\n      <td>4</td>\n      <td>109223</td>\n      <td>...</td>\n      <td>1.098250</td>\n      <td>100</td>\n      <td>100</td>\n      <td>1.098270</td>\n      <td>1.098250</td>\n      <td>1500</td>\n      <td>1500</td>\n      <td>1</td>\n      <td>0</td>\n      <td>0</td>\n    </tr>\n    <tr>\n      <th>1</th>\n      <td>3000002</td>\n      <td>1</td>\n      <td>0</td>\n      <td>3</td>\n      <td>6227</td>\n      <td>80</td>\n      <td>15</td>\n      <td>900</td>\n      <td>4</td>\n      <td>109224</td>\n      <td>...</td>\n      <td>1.098250</td>\n      <td>100</td>\n      <td>100</td>\n      <td>1.098270</td>\n      <td>1.098250</td>\n      <td>1500</td>\n      <td>1500</td>\n      <td>1</td>\n      <td>0</td>\n      <td>0</td>\n    </tr>\n    <tr>\n      <th>2</th>\n      <td>3000003</td>\n      <td>1</td>\n      <td>0</td>\n      <td>3</td>\n      <td>6228</td>\n      <td>80</td>\n      <td>15</td>\n      <td>900</td>\n      <td>4</td>\n      <td>109225</td>\n      <td>...</td>\n      <td>1.098250</td>\n      <td>100</td>\n      <td>100</td>\n      <td>1.098270</td>\n      <td>1.098250</td>\n      <td>1500</td>\n      <td>1500</td>\n      <td>1</td>\n      <td>0</td>\n      <td>0</td>\n    </tr>\n    <tr>\n      <th>3</th>\n      <td>3000004</td>\n      <td>1</td>\n      <td>0</td>\n      <td>3</td>\n      <td>6229</td>\n      <td>80</td>\n      <td>15</td>\n      <td>900</td>\n      <td>4</td>\n      <td>109226</td>\n      <td>...</td>\n      <td>1.098250</td>\n      <td>100</td>\n      <td>100</td>\n      <td>1.098270</td>\n      <td>1.098250</td>\n      <td>1500</td>\n      <td>1500</td>\n      <td>1</td>\n      <td>0</td>\n      <td>0</td>\n    </tr>\n    <tr>\n      <th>4</th>\n      <td>3000005</td>\n      <td>1</td>\n      <td>0</td>\n      <td>3</td>\n      <td>6230</td>\n      <td>80</td>\n      <td>15</td>\n      <td>900</td>\n      <td>4</td>\n      <td>109227</td>\n      <td>...</td>\n      <td>1.098250</td>\n      <td>100</td>\n      <td>100</td>\n      <td>1.098270</td>\n      <td>1.098250</td>\n      <td>1500</td>\n      <td>1500</td>\n      <td>1</td>\n      <td>0</td>\n      <td>0</td>\n    </tr>\n    <tr>\n      <th>...</th>\n      <td>...</td>\n      <td>...</td>\n      <td>...</td>\n      <td>...</td>\n      <td>...</td>\n      <td>...</td>\n      <td>...</td>\n      <td>...</td>\n      <td>...</td>\n      <td>...</td>\n      <td>...</td>\n      <td>...</td>\n      <td>...</td>\n      <td>...</td>\n      <td>...</td>\n      <td>...</td>\n      <td>...</td>\n      <td>...</td>\n      <td>...</td>\n      <td>...</td>\n      <td>...</td>\n    </tr>\n    <tr>\n      <th>668517</th>\n      <td>3668518</td>\n      <td>1</td>\n      <td>1</td>\n      <td>1</td>\n      <td>35064</td>\n      <td>22</td>\n      <td>6</td>\n      <td>434</td>\n      <td>1</td>\n      <td>81</td>\n      <td>...</td>\n      <td>9.889330</td>\n      <td>19</td>\n      <td>19</td>\n      <td>455.754000</td>\n      <td>9.889330</td>\n      <td>30</td>\n      <td>30</td>\n      <td>1</td>\n      <td>3</td>\n      <td>5</td>\n    </tr>\n    <tr>\n      <th>668518</th>\n      <td>3668519</td>\n      <td>1</td>\n      <td>1</td>\n      <td>1</td>\n      <td>35066</td>\n      <td>22</td>\n      <td>6</td>\n      <td>434</td>\n      <td>1</td>\n      <td>82</td>\n      <td>...</td>\n      <td>9.889330</td>\n      <td>19</td>\n      <td>19</td>\n      <td>10453.000000</td>\n      <td>9.889330</td>\n      <td>30</td>\n      <td>30</td>\n      <td>1</td>\n      <td>3</td>\n      <td>5</td>\n    </tr>\n    <tr>\n      <th>668519</th>\n      <td>3668520</td>\n      <td>1</td>\n      <td>1</td>\n      <td>1</td>\n      <td>35070</td>\n      <td>22</td>\n      <td>31</td>\n      <td>5472</td>\n      <td>6</td>\n      <td>84</td>\n      <td>...</td>\n      <td>9.889330</td>\n      <td>19</td>\n      <td>19</td>\n      <td>10.785200</td>\n      <td>9.889330</td>\n      <td>441</td>\n      <td>441</td>\n      <td>1</td>\n      <td>3</td>\n      <td>5</td>\n    </tr>\n    <tr>\n      <th>668520</th>\n      <td>3668521</td>\n      <td>1</td>\n      <td>1</td>\n      <td>1</td>\n      <td>43001</td>\n      <td>4433</td>\n      <td>2</td>\n      <td>134</td>\n      <td>1</td>\n      <td>85</td>\n      <td>...</td>\n      <td>666667.000000</td>\n      <td>1</td>\n      <td>3</td>\n      <td>666667.000000</td>\n      <td>22346.400000</td>\n      <td>2</td>\n      <td>4</td>\n      <td>1</td>\n      <td>3</td>\n      <td>5</td>\n    </tr>\n    <tr>\n      <th>668521</th>\n      <td>3668522</td>\n      <td>1</td>\n      <td>3</td>\n      <td>2</td>\n      <td>-1</td>\n      <td>-1</td>\n      <td>16</td>\n      <td>960</td>\n      <td>2</td>\n      <td>10</td>\n      <td>...</td>\n      <td>0.018868</td>\n      <td>2</td>\n      <td>3</td>\n      <td>0.018868</td>\n      <td>0.018868</td>\n      <td>16</td>\n      <td>16</td>\n      <td>1</td>\n      <td>3</td>\n      <td>5</td>\n    </tr>\n  </tbody>\n</table>\n<p>668522 rows × 40 columns</p>\n</div>"
     },
     "execution_count": 13,
     "metadata": {},
     "output_type": "execute_result"
    }
   ],
   "source": [
    "training_dataset"
   ]
  },
  {
   "cell_type": "code",
   "execution_count": 14,
   "id": "cloudy-press",
   "metadata": {
    "pycharm": {
     "name": "#%%\n"
    }
   },
   "outputs": [
    {
     "data": {
      "text/plain": "        pkSeqID  flgs_number proto  proto_number  sport  dport  pkts  bytes  \\\n0       3000001            1     0             3   6226     80    15    900   \n1       3000002            1     0             3   6227     80    15    900   \n2       3000003            1     0             3   6228     80    15    900   \n3       3000004            1     0             3   6229     80    15    900   \n4       3000005            1     0             3   6230     80    15    900   \n...         ...          ...   ...           ...    ...    ...   ...    ...   \n668517  3668518            1     1             1  35064     22     6    434   \n668518  3668519            1     1             1  35066     22     6    434   \n668519  3668520            1     1             1  35070     22    31   5472   \n668520  3668521            1     1             1  43001   4433     2    134   \n668521  3668522            1     3             2     -1     -1    16    960   \n\n        state_number     seq  ...  AR_P_Proto_P_DstIP  N_IN_Conn_P_DstIP  \\\n0                  4  109223  ...            1.098250                100   \n1                  4  109224  ...            1.098250                100   \n2                  4  109225  ...            1.098250                100   \n3                  4  109226  ...            1.098250                100   \n4                  4  109227  ...            1.098250                100   \n...              ...     ...  ...                 ...                ...   \n668517             1      81  ...            9.889330                 19   \n668518             1      82  ...            9.889330                 19   \n668519             6      84  ...            9.889330                 19   \n668520             1      85  ...       666667.000000                  1   \n668521             2      10  ...            0.018868                  2   \n\n        N_IN_Conn_P_SrcIP  AR_P_Proto_P_Sport  AR_P_Proto_P_Dport  \\\n0                     100            1.098270            1.098250   \n1                     100            1.098270            1.098250   \n2                     100            1.098270            1.098250   \n3                     100            1.098270            1.098250   \n4                     100            1.098270            1.098250   \n...                   ...                 ...                 ...   \n668517                 19          455.754000            9.889330   \n668518                 19        10453.000000            9.889330   \n668519                 19           10.785200            9.889330   \n668520                  3       666667.000000        22346.400000   \n668521                  3            0.018868            0.018868   \n\n        Pkts_P_State_P_Protocol_P_DestIP  Pkts_P_State_P_Protocol_P_SrcIP  \\\n0                                   1500                             1500   \n1                                   1500                             1500   \n2                                   1500                             1500   \n3                                   1500                             1500   \n4                                   1500                             1500   \n...                                  ...                              ...   \n668517                                30                               30   \n668518                                30                               30   \n668519                               441                              441   \n668520                                 2                                4   \n668521                                16                               16   \n\n        attack  category  subcategory  \n0            1         0            0  \n1            1         0            0  \n2            1         0            0  \n3            1         0            0  \n4            1         0            0  \n...        ...       ...          ...  \n668517       1         3            5  \n668518       1         3            5  \n668519       1         3            5  \n668520       1         3            5  \n668521       1         3            5  \n\n[668522 rows x 40 columns]",
      "text/html": "<div>\n<style scoped>\n    .dataframe tbody tr th:only-of-type {\n        vertical-align: middle;\n    }\n\n    .dataframe tbody tr th {\n        vertical-align: top;\n    }\n\n    .dataframe thead th {\n        text-align: right;\n    }\n</style>\n<table border=\"1\" class=\"dataframe\">\n  <thead>\n    <tr style=\"text-align: right;\">\n      <th></th>\n      <th>pkSeqID</th>\n      <th>flgs_number</th>\n      <th>proto</th>\n      <th>proto_number</th>\n      <th>sport</th>\n      <th>dport</th>\n      <th>pkts</th>\n      <th>bytes</th>\n      <th>state_number</th>\n      <th>seq</th>\n      <th>...</th>\n      <th>AR_P_Proto_P_DstIP</th>\n      <th>N_IN_Conn_P_DstIP</th>\n      <th>N_IN_Conn_P_SrcIP</th>\n      <th>AR_P_Proto_P_Sport</th>\n      <th>AR_P_Proto_P_Dport</th>\n      <th>Pkts_P_State_P_Protocol_P_DestIP</th>\n      <th>Pkts_P_State_P_Protocol_P_SrcIP</th>\n      <th>attack</th>\n      <th>category</th>\n      <th>subcategory</th>\n    </tr>\n  </thead>\n  <tbody>\n    <tr>\n      <th>0</th>\n      <td>3000001</td>\n      <td>1</td>\n      <td>0</td>\n      <td>3</td>\n      <td>6226</td>\n      <td>80</td>\n      <td>15</td>\n      <td>900</td>\n      <td>4</td>\n      <td>109223</td>\n      <td>...</td>\n      <td>1.098250</td>\n      <td>100</td>\n      <td>100</td>\n      <td>1.098270</td>\n      <td>1.098250</td>\n      <td>1500</td>\n      <td>1500</td>\n      <td>1</td>\n      <td>0</td>\n      <td>0</td>\n    </tr>\n    <tr>\n      <th>1</th>\n      <td>3000002</td>\n      <td>1</td>\n      <td>0</td>\n      <td>3</td>\n      <td>6227</td>\n      <td>80</td>\n      <td>15</td>\n      <td>900</td>\n      <td>4</td>\n      <td>109224</td>\n      <td>...</td>\n      <td>1.098250</td>\n      <td>100</td>\n      <td>100</td>\n      <td>1.098270</td>\n      <td>1.098250</td>\n      <td>1500</td>\n      <td>1500</td>\n      <td>1</td>\n      <td>0</td>\n      <td>0</td>\n    </tr>\n    <tr>\n      <th>2</th>\n      <td>3000003</td>\n      <td>1</td>\n      <td>0</td>\n      <td>3</td>\n      <td>6228</td>\n      <td>80</td>\n      <td>15</td>\n      <td>900</td>\n      <td>4</td>\n      <td>109225</td>\n      <td>...</td>\n      <td>1.098250</td>\n      <td>100</td>\n      <td>100</td>\n      <td>1.098270</td>\n      <td>1.098250</td>\n      <td>1500</td>\n      <td>1500</td>\n      <td>1</td>\n      <td>0</td>\n      <td>0</td>\n    </tr>\n    <tr>\n      <th>3</th>\n      <td>3000004</td>\n      <td>1</td>\n      <td>0</td>\n      <td>3</td>\n      <td>6229</td>\n      <td>80</td>\n      <td>15</td>\n      <td>900</td>\n      <td>4</td>\n      <td>109226</td>\n      <td>...</td>\n      <td>1.098250</td>\n      <td>100</td>\n      <td>100</td>\n      <td>1.098270</td>\n      <td>1.098250</td>\n      <td>1500</td>\n      <td>1500</td>\n      <td>1</td>\n      <td>0</td>\n      <td>0</td>\n    </tr>\n    <tr>\n      <th>4</th>\n      <td>3000005</td>\n      <td>1</td>\n      <td>0</td>\n      <td>3</td>\n      <td>6230</td>\n      <td>80</td>\n      <td>15</td>\n      <td>900</td>\n      <td>4</td>\n      <td>109227</td>\n      <td>...</td>\n      <td>1.098250</td>\n      <td>100</td>\n      <td>100</td>\n      <td>1.098270</td>\n      <td>1.098250</td>\n      <td>1500</td>\n      <td>1500</td>\n      <td>1</td>\n      <td>0</td>\n      <td>0</td>\n    </tr>\n    <tr>\n      <th>...</th>\n      <td>...</td>\n      <td>...</td>\n      <td>...</td>\n      <td>...</td>\n      <td>...</td>\n      <td>...</td>\n      <td>...</td>\n      <td>...</td>\n      <td>...</td>\n      <td>...</td>\n      <td>...</td>\n      <td>...</td>\n      <td>...</td>\n      <td>...</td>\n      <td>...</td>\n      <td>...</td>\n      <td>...</td>\n      <td>...</td>\n      <td>...</td>\n      <td>...</td>\n      <td>...</td>\n    </tr>\n    <tr>\n      <th>668517</th>\n      <td>3668518</td>\n      <td>1</td>\n      <td>1</td>\n      <td>1</td>\n      <td>35064</td>\n      <td>22</td>\n      <td>6</td>\n      <td>434</td>\n      <td>1</td>\n      <td>81</td>\n      <td>...</td>\n      <td>9.889330</td>\n      <td>19</td>\n      <td>19</td>\n      <td>455.754000</td>\n      <td>9.889330</td>\n      <td>30</td>\n      <td>30</td>\n      <td>1</td>\n      <td>3</td>\n      <td>5</td>\n    </tr>\n    <tr>\n      <th>668518</th>\n      <td>3668519</td>\n      <td>1</td>\n      <td>1</td>\n      <td>1</td>\n      <td>35066</td>\n      <td>22</td>\n      <td>6</td>\n      <td>434</td>\n      <td>1</td>\n      <td>82</td>\n      <td>...</td>\n      <td>9.889330</td>\n      <td>19</td>\n      <td>19</td>\n      <td>10453.000000</td>\n      <td>9.889330</td>\n      <td>30</td>\n      <td>30</td>\n      <td>1</td>\n      <td>3</td>\n      <td>5</td>\n    </tr>\n    <tr>\n      <th>668519</th>\n      <td>3668520</td>\n      <td>1</td>\n      <td>1</td>\n      <td>1</td>\n      <td>35070</td>\n      <td>22</td>\n      <td>31</td>\n      <td>5472</td>\n      <td>6</td>\n      <td>84</td>\n      <td>...</td>\n      <td>9.889330</td>\n      <td>19</td>\n      <td>19</td>\n      <td>10.785200</td>\n      <td>9.889330</td>\n      <td>441</td>\n      <td>441</td>\n      <td>1</td>\n      <td>3</td>\n      <td>5</td>\n    </tr>\n    <tr>\n      <th>668520</th>\n      <td>3668521</td>\n      <td>1</td>\n      <td>1</td>\n      <td>1</td>\n      <td>43001</td>\n      <td>4433</td>\n      <td>2</td>\n      <td>134</td>\n      <td>1</td>\n      <td>85</td>\n      <td>...</td>\n      <td>666667.000000</td>\n      <td>1</td>\n      <td>3</td>\n      <td>666667.000000</td>\n      <td>22346.400000</td>\n      <td>2</td>\n      <td>4</td>\n      <td>1</td>\n      <td>3</td>\n      <td>5</td>\n    </tr>\n    <tr>\n      <th>668521</th>\n      <td>3668522</td>\n      <td>1</td>\n      <td>3</td>\n      <td>2</td>\n      <td>-1</td>\n      <td>-1</td>\n      <td>16</td>\n      <td>960</td>\n      <td>2</td>\n      <td>10</td>\n      <td>...</td>\n      <td>0.018868</td>\n      <td>2</td>\n      <td>3</td>\n      <td>0.018868</td>\n      <td>0.018868</td>\n      <td>16</td>\n      <td>16</td>\n      <td>1</td>\n      <td>3</td>\n      <td>5</td>\n    </tr>\n  </tbody>\n</table>\n<p>668522 rows × 40 columns</p>\n</div>"
     },
     "execution_count": 14,
     "metadata": {},
     "output_type": "execute_result"
    }
   ],
   "source": [
    "#handling the infinite value\n",
    "training_dataset.replace([np.inf,-np.inf],np.nan,inplace=True)\n",
    "training_dataset.fillna(training_dataset.mean(),inplace=True)\n",
    "training_dataset"
   ]
  },
  {
   "cell_type": "code",
   "execution_count": 15,
   "id": "published-store",
   "metadata": {
    "pycharm": {
     "name": "#%%\n"
    }
   },
   "outputs": [
    {
     "data": {
      "text/plain": "        pkSeqID  flgs_number proto  proto_number  sport  dport  pkts  bytes  \\\n0       3000001            1     0             3   6226     80    15    900   \n1       3000002            1     0             3   6227     80    15    900   \n2       3000003            1     0             3   6228     80    15    900   \n3       3000004            1     0             3   6229     80    15    900   \n4       3000005            1     0             3   6230     80    15    900   \n...         ...          ...   ...           ...    ...    ...   ...    ...   \n668517  3668518            1     1             1  35064     22     6    434   \n668518  3668519            1     1             1  35066     22     6    434   \n668519  3668520            1     1             1  35070     22    31   5472   \n668520  3668521            1     1             1  43001   4433     2    134   \n668521  3668522            1     3             2     -1     -1    16    960   \n\n        state_number     seq  ...  AR_P_Proto_P_SrcIP  AR_P_Proto_P_DstIP  \\\n0                  4  109223  ...            1.098250            1.098250   \n1                  4  109224  ...            1.098250            1.098250   \n2                  4  109225  ...            1.098250            1.098250   \n3                  4  109226  ...            1.098250            1.098250   \n4                  4  109227  ...            1.098250            1.098250   \n...              ...     ...  ...                 ...                 ...   \n668517             1      81  ...            9.889330            9.889330   \n668518             1      82  ...            9.889330            9.889330   \n668519             6      84  ...            9.889330            9.889330   \n668520             1      85  ...        22346.400000       666667.000000   \n668521             2      10  ...            0.018868            0.018868   \n\n        N_IN_Conn_P_DstIP  N_IN_Conn_P_SrcIP  AR_P_Proto_P_Sport  \\\n0                     100                100            1.098270   \n1                     100                100            1.098270   \n2                     100                100            1.098270   \n3                     100                100            1.098270   \n4                     100                100            1.098270   \n...                   ...                ...                 ...   \n668517                 19                 19          455.754000   \n668518                 19                 19        10453.000000   \n668519                 19                 19           10.785200   \n668520                  1                  3       666667.000000   \n668521                  2                  3            0.018868   \n\n        AR_P_Proto_P_Dport  Pkts_P_State_P_Protocol_P_DestIP  \\\n0                 1.098250                              1500   \n1                 1.098250                              1500   \n2                 1.098250                              1500   \n3                 1.098250                              1500   \n4                 1.098250                              1500   \n...                    ...                               ...   \n668517            9.889330                                30   \n668518            9.889330                                30   \n668519            9.889330                               441   \n668520        22346.400000                                 2   \n668521            0.018868                                16   \n\n        Pkts_P_State_P_Protocol_P_SrcIP  category  subcategory  \n0                                  1500         0            0  \n1                                  1500         0            0  \n2                                  1500         0            0  \n3                                  1500         0            0  \n4                                  1500         0            0  \n...                                 ...       ...          ...  \n668517                               30         3            5  \n668518                               30         3            5  \n668519                              441         3            5  \n668520                                4         3            5  \n668521                               16         3            5  \n\n[668522 rows x 39 columns]",
      "text/html": "<div>\n<style scoped>\n    .dataframe tbody tr th:only-of-type {\n        vertical-align: middle;\n    }\n\n    .dataframe tbody tr th {\n        vertical-align: top;\n    }\n\n    .dataframe thead th {\n        text-align: right;\n    }\n</style>\n<table border=\"1\" class=\"dataframe\">\n  <thead>\n    <tr style=\"text-align: right;\">\n      <th></th>\n      <th>pkSeqID</th>\n      <th>flgs_number</th>\n      <th>proto</th>\n      <th>proto_number</th>\n      <th>sport</th>\n      <th>dport</th>\n      <th>pkts</th>\n      <th>bytes</th>\n      <th>state_number</th>\n      <th>seq</th>\n      <th>...</th>\n      <th>AR_P_Proto_P_SrcIP</th>\n      <th>AR_P_Proto_P_DstIP</th>\n      <th>N_IN_Conn_P_DstIP</th>\n      <th>N_IN_Conn_P_SrcIP</th>\n      <th>AR_P_Proto_P_Sport</th>\n      <th>AR_P_Proto_P_Dport</th>\n      <th>Pkts_P_State_P_Protocol_P_DestIP</th>\n      <th>Pkts_P_State_P_Protocol_P_SrcIP</th>\n      <th>category</th>\n      <th>subcategory</th>\n    </tr>\n  </thead>\n  <tbody>\n    <tr>\n      <th>0</th>\n      <td>3000001</td>\n      <td>1</td>\n      <td>0</td>\n      <td>3</td>\n      <td>6226</td>\n      <td>80</td>\n      <td>15</td>\n      <td>900</td>\n      <td>4</td>\n      <td>109223</td>\n      <td>...</td>\n      <td>1.098250</td>\n      <td>1.098250</td>\n      <td>100</td>\n      <td>100</td>\n      <td>1.098270</td>\n      <td>1.098250</td>\n      <td>1500</td>\n      <td>1500</td>\n      <td>0</td>\n      <td>0</td>\n    </tr>\n    <tr>\n      <th>1</th>\n      <td>3000002</td>\n      <td>1</td>\n      <td>0</td>\n      <td>3</td>\n      <td>6227</td>\n      <td>80</td>\n      <td>15</td>\n      <td>900</td>\n      <td>4</td>\n      <td>109224</td>\n      <td>...</td>\n      <td>1.098250</td>\n      <td>1.098250</td>\n      <td>100</td>\n      <td>100</td>\n      <td>1.098270</td>\n      <td>1.098250</td>\n      <td>1500</td>\n      <td>1500</td>\n      <td>0</td>\n      <td>0</td>\n    </tr>\n    <tr>\n      <th>2</th>\n      <td>3000003</td>\n      <td>1</td>\n      <td>0</td>\n      <td>3</td>\n      <td>6228</td>\n      <td>80</td>\n      <td>15</td>\n      <td>900</td>\n      <td>4</td>\n      <td>109225</td>\n      <td>...</td>\n      <td>1.098250</td>\n      <td>1.098250</td>\n      <td>100</td>\n      <td>100</td>\n      <td>1.098270</td>\n      <td>1.098250</td>\n      <td>1500</td>\n      <td>1500</td>\n      <td>0</td>\n      <td>0</td>\n    </tr>\n    <tr>\n      <th>3</th>\n      <td>3000004</td>\n      <td>1</td>\n      <td>0</td>\n      <td>3</td>\n      <td>6229</td>\n      <td>80</td>\n      <td>15</td>\n      <td>900</td>\n      <td>4</td>\n      <td>109226</td>\n      <td>...</td>\n      <td>1.098250</td>\n      <td>1.098250</td>\n      <td>100</td>\n      <td>100</td>\n      <td>1.098270</td>\n      <td>1.098250</td>\n      <td>1500</td>\n      <td>1500</td>\n      <td>0</td>\n      <td>0</td>\n    </tr>\n    <tr>\n      <th>4</th>\n      <td>3000005</td>\n      <td>1</td>\n      <td>0</td>\n      <td>3</td>\n      <td>6230</td>\n      <td>80</td>\n      <td>15</td>\n      <td>900</td>\n      <td>4</td>\n      <td>109227</td>\n      <td>...</td>\n      <td>1.098250</td>\n      <td>1.098250</td>\n      <td>100</td>\n      <td>100</td>\n      <td>1.098270</td>\n      <td>1.098250</td>\n      <td>1500</td>\n      <td>1500</td>\n      <td>0</td>\n      <td>0</td>\n    </tr>\n    <tr>\n      <th>...</th>\n      <td>...</td>\n      <td>...</td>\n      <td>...</td>\n      <td>...</td>\n      <td>...</td>\n      <td>...</td>\n      <td>...</td>\n      <td>...</td>\n      <td>...</td>\n      <td>...</td>\n      <td>...</td>\n      <td>...</td>\n      <td>...</td>\n      <td>...</td>\n      <td>...</td>\n      <td>...</td>\n      <td>...</td>\n      <td>...</td>\n      <td>...</td>\n      <td>...</td>\n      <td>...</td>\n    </tr>\n    <tr>\n      <th>668517</th>\n      <td>3668518</td>\n      <td>1</td>\n      <td>1</td>\n      <td>1</td>\n      <td>35064</td>\n      <td>22</td>\n      <td>6</td>\n      <td>434</td>\n      <td>1</td>\n      <td>81</td>\n      <td>...</td>\n      <td>9.889330</td>\n      <td>9.889330</td>\n      <td>19</td>\n      <td>19</td>\n      <td>455.754000</td>\n      <td>9.889330</td>\n      <td>30</td>\n      <td>30</td>\n      <td>3</td>\n      <td>5</td>\n    </tr>\n    <tr>\n      <th>668518</th>\n      <td>3668519</td>\n      <td>1</td>\n      <td>1</td>\n      <td>1</td>\n      <td>35066</td>\n      <td>22</td>\n      <td>6</td>\n      <td>434</td>\n      <td>1</td>\n      <td>82</td>\n      <td>...</td>\n      <td>9.889330</td>\n      <td>9.889330</td>\n      <td>19</td>\n      <td>19</td>\n      <td>10453.000000</td>\n      <td>9.889330</td>\n      <td>30</td>\n      <td>30</td>\n      <td>3</td>\n      <td>5</td>\n    </tr>\n    <tr>\n      <th>668519</th>\n      <td>3668520</td>\n      <td>1</td>\n      <td>1</td>\n      <td>1</td>\n      <td>35070</td>\n      <td>22</td>\n      <td>31</td>\n      <td>5472</td>\n      <td>6</td>\n      <td>84</td>\n      <td>...</td>\n      <td>9.889330</td>\n      <td>9.889330</td>\n      <td>19</td>\n      <td>19</td>\n      <td>10.785200</td>\n      <td>9.889330</td>\n      <td>441</td>\n      <td>441</td>\n      <td>3</td>\n      <td>5</td>\n    </tr>\n    <tr>\n      <th>668520</th>\n      <td>3668521</td>\n      <td>1</td>\n      <td>1</td>\n      <td>1</td>\n      <td>43001</td>\n      <td>4433</td>\n      <td>2</td>\n      <td>134</td>\n      <td>1</td>\n      <td>85</td>\n      <td>...</td>\n      <td>22346.400000</td>\n      <td>666667.000000</td>\n      <td>1</td>\n      <td>3</td>\n      <td>666667.000000</td>\n      <td>22346.400000</td>\n      <td>2</td>\n      <td>4</td>\n      <td>3</td>\n      <td>5</td>\n    </tr>\n    <tr>\n      <th>668521</th>\n      <td>3668522</td>\n      <td>1</td>\n      <td>3</td>\n      <td>2</td>\n      <td>-1</td>\n      <td>-1</td>\n      <td>16</td>\n      <td>960</td>\n      <td>2</td>\n      <td>10</td>\n      <td>...</td>\n      <td>0.018868</td>\n      <td>0.018868</td>\n      <td>2</td>\n      <td>3</td>\n      <td>0.018868</td>\n      <td>0.018868</td>\n      <td>16</td>\n      <td>16</td>\n      <td>3</td>\n      <td>5</td>\n    </tr>\n  </tbody>\n</table>\n<p>668522 rows × 39 columns</p>\n</div>"
     },
     "execution_count": 15,
     "metadata": {},
     "output_type": "execute_result"
    }
   ],
   "source": [
    "y = training_dataset['attack']\n",
    "x=training_dataset.drop(['attack'],axis=1)\n",
    "x"
   ]
  },
  {
   "cell_type": "code",
   "execution_count": 16,
   "id": "hearing-arena",
   "metadata": {
    "pycharm": {
     "name": "#%%\n"
    }
   },
   "outputs": [
    {
     "data": {
      "text/plain": "0         1\n1         1\n2         1\n3         1\n4         1\n         ..\n668517    1\n668518    1\n668519    1\n668520    1\n668521    1\nName: attack, Length: 668522, dtype: int64"
     },
     "execution_count": 16,
     "metadata": {},
     "output_type": "execute_result"
    }
   ],
   "source": [
    "y"
   ]
  },
  {
   "cell_type": "code",
   "execution_count": 17,
   "id": "historic-generator",
   "metadata": {
    "pycharm": {
     "name": "#%%\n"
    }
   },
   "outputs": [],
   "source": [
    "scaler = MinMaxScaler()"
   ]
  },
  {
   "cell_type": "code",
   "execution_count": 18,
   "id": "approved-aircraft",
   "metadata": {
    "pycharm": {
     "name": "#%%\n"
    }
   },
   "outputs": [
    {
     "data": {
      "text/plain": "MinMaxScaler()"
     },
     "execution_count": 18,
     "metadata": {},
     "output_type": "execute_result"
    }
   ],
   "source": [
    "scaler.fit(x)"
   ]
  },
  {
   "cell_type": "code",
   "execution_count": 19,
   "id": "fiscal-aluminum",
   "metadata": {
    "pycharm": {
     "name": "#%%\n"
    }
   },
   "outputs": [],
   "source": [
    "normalized_x = scaler.transform(x)"
   ]
  },
  {
   "cell_type": "code",
   "execution_count": 20,
   "id": "related-efficiency",
   "metadata": {
    "pycharm": {
     "name": "#%%\n"
    }
   },
   "outputs": [
    {
     "data": {
      "text/plain": "array([[0.00000000e+00, 0.00000000e+00, 0.00000000e+00, ...,\n        1.27100680e-02, 0.00000000e+00, 0.00000000e+00],\n       [1.49583932e-06, 0.00000000e+00, 0.00000000e+00, ...,\n        1.27100680e-02, 0.00000000e+00, 0.00000000e+00],\n       [2.99167865e-06, 0.00000000e+00, 0.00000000e+00, ...,\n        1.27100680e-02, 0.00000000e+00, 0.00000000e+00],\n       ...,\n       [9.99997008e-01, 0.00000000e+00, 2.50000000e-01, ...,\n        3.73077380e-03, 1.00000000e+00, 1.00000000e+00],\n       [9.99998504e-01, 0.00000000e+00, 2.50000000e-01, ...,\n        2.54370941e-05, 1.00000000e+00, 1.00000000e+00],\n       [1.00000000e+00, 0.00000000e+00, 7.50000000e-01, ...,\n        1.27185470e-04, 1.00000000e+00, 1.00000000e+00]])"
     },
     "execution_count": 20,
     "metadata": {},
     "output_type": "execute_result"
    }
   ],
   "source": [
    "normalized_x"
   ]
  },
  {
   "cell_type": "code",
   "execution_count": 21,
   "id": "numeric-trainer",
   "metadata": {
    "pycharm": {
     "name": "#%%\n"
    }
   },
   "outputs": [
    {
     "data": {
      "text/plain": "(668522, 39)"
     },
     "execution_count": 21,
     "metadata": {},
     "output_type": "execute_result"
    }
   ],
   "source": [
    "normalized_x.shape"
   ]
  },
  {
   "cell_type": "code",
   "execution_count": 22,
   "outputs": [],
   "source": [
    "y = y.array.reshape(-1,1)"
   ],
   "metadata": {
    "collapsed": false,
    "pycharm": {
     "name": "#%%\n"
    }
   }
  },
  {
   "cell_type": "code",
   "execution_count": 23,
   "id": "legislative-jamaica",
   "metadata": {
    "pycharm": {
     "name": "#%%\n"
    }
   },
   "outputs": [
    {
     "data": {
      "text/plain": "MinMaxScaler()"
     },
     "execution_count": 23,
     "metadata": {},
     "output_type": "execute_result"
    }
   ],
   "source": [
    "scaler.fit(y)"
   ]
  },
  {
   "cell_type": "code",
   "execution_count": 24,
   "id": "strange-tobacco",
   "metadata": {
    "pycharm": {
     "name": "#%%\n"
    }
   },
   "outputs": [],
   "source": [
    "normalized_y = scaler.transform(y)"
   ]
  },
  {
   "cell_type": "code",
   "execution_count": 25,
   "id": "quarterly-chile",
   "metadata": {
    "pycharm": {
     "name": "#%%\n"
    }
   },
   "outputs": [
    {
     "data": {
      "text/plain": "array([[1.],\n       [1.],\n       [1.],\n       ...,\n       [1.],\n       [1.],\n       [1.]])"
     },
     "execution_count": 25,
     "metadata": {},
     "output_type": "execute_result"
    }
   ],
   "source": [
    "normalized_y"
   ]
  },
  {
   "cell_type": "code",
   "execution_count": 26,
   "id": "touched-tanzania",
   "metadata": {
    "pycharm": {
     "name": "#%%\n"
    }
   },
   "outputs": [],
   "source": [
    "from sklearn.model_selection import train_test_split\n",
    "X_train, X_test, Y_train, Y_test = train_test_split(normalized_x, normalized_y, random_state=10, test_size=0.2)"
   ]
  },
  {
   "cell_type": "code",
   "execution_count": 28,
   "id": "lightweight-trail",
   "metadata": {
    "pycharm": {
     "name": "#%%\n"
    }
   },
   "outputs": [
    {
     "data": {
      "text/plain": "(534817, 39)"
     },
     "execution_count": 28,
     "metadata": {},
     "output_type": "execute_result"
    }
   ],
   "source": [
    "X_train.shape"
   ]
  },
  {
   "cell_type": "code",
   "execution_count": 29,
   "outputs": [
    {
     "data": {
      "text/plain": "(133705, 39)"
     },
     "execution_count": 29,
     "metadata": {},
     "output_type": "execute_result"
    }
   ],
   "source": [
    "X_test.shape"
   ],
   "metadata": {
    "collapsed": false,
    "pycharm": {
     "name": "#%%\n"
    }
   }
  },
  {
   "cell_type": "code",
   "execution_count": 79,
   "id": "earned-advertiser",
   "metadata": {
    "pycharm": {
     "name": "#%%\n"
    }
   },
   "outputs": [],
   "source": [
    "\n",
    "model = Sequential()\n",
    "model.add(Dense(2000, activation='relu',input_dim=(39)))\n",
    "model.add(Dense(1500, activation='relu'))\n",
    "model.add(Dropout(0.2))\n",
    "model.add(Dense(800,activation='relu'))\n",
    "model.add(Dropout(0.2))\n",
    "model.add(Dense(400,activation='relu'))\n",
    "model.add(Dropout(0.2))\n",
    "model.add(Dense(150,activation='relu'))\n",
    "model.add(Dropout(0.2))\n",
    "model.add(Dense(1, activation='sigmoid'))\n",
    "model.compile(loss='binary_crossentropy', optimizer='adam', metrics=['accuracy'])\n"
   ]
  },
  {
   "cell_type": "code",
   "execution_count": 80,
   "outputs": [
    {
     "data": {
      "text/plain": "(None, 39)"
     },
     "execution_count": 80,
     "metadata": {},
     "output_type": "execute_result"
    }
   ],
   "source": [
    "model.input_shape"
   ],
   "metadata": {
    "collapsed": false,
    "pycharm": {
     "name": "#%%\n"
    }
   }
  },
  {
   "cell_type": "code",
   "execution_count": 81,
   "id": "specified-duplicate",
   "metadata": {
    "pycharm": {
     "name": "#%%\n"
    }
   },
   "outputs": [
    {
     "name": "stdout",
     "output_type": "stream",
     "text": [
      "Model: \"sequential_16\"\n",
      "_________________________________________________________________\n",
      " Layer (type)                Output Shape              Param #   \n",
      "=================================================================\n",
      " dense_68 (Dense)            (None, 2000)              80000     \n",
      "                                                                 \n",
      " dense_69 (Dense)            (None, 1500)              3001500   \n",
      "                                                                 \n",
      " dropout_44 (Dropout)        (None, 1500)              0         \n",
      "                                                                 \n",
      " dense_70 (Dense)            (None, 800)               1200800   \n",
      "                                                                 \n",
      " dropout_45 (Dropout)        (None, 800)               0         \n",
      "                                                                 \n",
      " dense_71 (Dense)            (None, 400)               320400    \n",
      "                                                                 \n",
      " dropout_46 (Dropout)        (None, 400)               0         \n",
      "                                                                 \n",
      " dense_72 (Dense)            (None, 150)               60150     \n",
      "                                                                 \n",
      " dropout_47 (Dropout)        (None, 150)               0         \n",
      "                                                                 \n",
      " dense_73 (Dense)            (None, 1)                 151       \n",
      "                                                                 \n",
      "=================================================================\n",
      "Total params: 4,663,001\n",
      "Trainable params: 4,663,001\n",
      "Non-trainable params: 0\n",
      "_________________________________________________________________\n"
     ]
    }
   ],
   "source": [
    "model.summary()"
   ]
  },
  {
   "cell_type": "code",
   "execution_count": 82,
   "id": "recognized-sunset",
   "metadata": {
    "pycharm": {
     "name": "#%%\n"
    }
   },
   "outputs": [],
   "source": [
    "import time"
   ]
  },
  {
   "cell_type": "code",
   "execution_count": 84,
   "id": "distinct-effort",
   "metadata": {
    "pycharm": {
     "name": "#%%\n"
    }
   },
   "outputs": [
    {
     "name": "stdout",
     "output_type": "stream",
     "text": [
      "program start...\n",
      "\n",
      "Epoch 1/2\n",
      "2090/2090 [==============================] - 276s 132ms/step - loss: 1.8568e-04 - accuracy: 1.0000 - val_loss: 1.2992e-04 - val_accuracy: 0.9999\n",
      "Epoch 2/2\n",
      "2090/2090 [==============================] - 280s 134ms/step - loss: 1.3298e-04 - accuracy: 1.0000 - val_loss: 3.0557e-07 - val_accuracy: 1.0000\n",
      "\n",
      "program end...\n",
      "\n",
      "time cost: \n",
      "556.203173160553 seconds\n"
     ]
    }
   ],
   "source": [
    "start = time.time()\n",
    "print('program start...')\n",
    "print()\n",
    "\n",
    "history = model.fit(X_train, Y_train, epochs = 2, batch_size=256, validation_data=(X_test,Y_test),verbose=1)\n",
    "\n",
    "print()\n",
    "end = time.time()\n",
    "print('program end...')\n",
    "print()\n",
    "print('time cost: ')\n",
    "print(end - start, 'seconds')"
   ]
  },
  {
   "cell_type": "code",
   "execution_count": null,
   "id": "proper-payroll",
   "metadata": {
    "pycharm": {
     "name": "#%%\n"
    }
   },
   "outputs": [],
   "source": []
  },
  {
   "cell_type": "code",
   "execution_count": null,
   "id": "removable-differential",
   "metadata": {
    "pycharm": {
     "name": "#%%\n"
    }
   },
   "outputs": [],
   "source": []
  },
  {
   "cell_type": "code",
   "execution_count": null,
   "id": "comic-freedom",
   "metadata": {
    "pycharm": {
     "name": "#%%\n"
    }
   },
   "outputs": [],
   "source": []
  },
  {
   "cell_type": "code",
   "execution_count": null,
   "id": "exceptional-yacht",
   "metadata": {
    "pycharm": {
     "name": "#%%\n"
    }
   },
   "outputs": [],
   "source": []
  },
  {
   "cell_type": "code",
   "execution_count": null,
   "id": "speaking-formation",
   "metadata": {
    "pycharm": {
     "name": "#%%\n"
    }
   },
   "outputs": [],
   "source": []
  },
  {
   "cell_type": "code",
   "execution_count": null,
   "id": "complex-prerequisite",
   "metadata": {
    "pycharm": {
     "name": "#%%\n"
    }
   },
   "outputs": [],
   "source": []
  },
  {
   "cell_type": "code",
   "execution_count": null,
   "id": "comparable-recycling",
   "metadata": {
    "pycharm": {
     "name": "#%%\n"
    }
   },
   "outputs": [],
   "source": []
  },
  {
   "cell_type": "code",
   "execution_count": null,
   "id": "creative-treasurer",
   "metadata": {
    "pycharm": {
     "name": "#%%\n"
    }
   },
   "outputs": [],
   "source": []
  },
  {
   "cell_type": "code",
   "execution_count": null,
   "id": "incident-humanity",
   "metadata": {
    "pycharm": {
     "name": "#%%\n"
    }
   },
   "outputs": [],
   "source": []
  },
  {
   "cell_type": "code",
   "execution_count": null,
   "id": "commercial-colony",
   "metadata": {
    "pycharm": {
     "name": "#%%\n"
    }
   },
   "outputs": [],
   "source": []
  }
 ],
 "metadata": {
  "kernelspec": {
   "display_name": "Python 3",
   "language": "python",
   "name": "python3"
  },
  "language_info": {
   "codemirror_mode": {
    "name": "ipython",
    "version": 3
   },
   "file_extension": ".py",
   "mimetype": "text/x-python",
   "name": "python",
   "nbconvert_exporter": "python",
   "pygments_lexer": "ipython3",
   "version": "3.8.5"
  }
 },
 "nbformat": 4,
 "nbformat_minor": 5
}