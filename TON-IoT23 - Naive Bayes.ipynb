{
 "cells": [
  {
   "cell_type": "code",
   "execution_count": 1,
   "metadata": {},
   "outputs": [],
   "source": [
    "import pandas as pd\n",
    "from sklearn.svm import SVC\n",
    "from sklearn.model_selection import GridSearchCV\n",
    "from sklearn.metrics import classification_report, confusion_matrix\n",
    "from sklearn.model_selection import train_test_split\n",
    "import time\n",
    "import numpy as np"
   ]
  },
  {
   "cell_type": "code",
   "execution_count": 2,
   "metadata": {},
   "outputs": [],
   "source": [
    "filepath = \"C:/Users/gufra/OneDrive/Desktop/Detection-TonIoT23-main/UNSW_2018_IoT_Botnet_Full5pc_4.csv\""
   ]
  },
  {
   "cell_type": "code",
   "execution_count": 3,
   "outputs": [],
   "source": [
    "training_dataset = pd.read_csv(filepath)"
   ],
   "metadata": {
    "collapsed": false,
    "pycharm": {
     "name": "#%%\n"
    }
   }
  },
  {
   "cell_type": "code",
   "execution_count": 4,
   "outputs": [],
   "source": [
    "training_dataset = training_dataset.drop(['stime'], axis=1)\n",
    "training_dataset = training_dataset.drop(['flgs'], axis=1)\n",
    "training_dataset = training_dataset.drop(['saddr'], axis=1)\n",
    "training_dataset = training_dataset.drop(['daddr'], axis=1)\n",
    "training_dataset = training_dataset.drop(['ltime'], axis=1)\n",
    "training_dataset = training_dataset.drop(['state'], axis=1)\n",
    "training_dataset\n",
    "#replacing values\n",
    "training_dataset['proto'] = training_dataset['proto'].replace(\n",
    "    {'udp': '0', 'tcp': '1', 'icmp': '2', 'arp': '3', 'ipv6-icmp': '4'})\n",
    "training_dataset['category'] = training_dataset['category'].replace(\n",
    "    {'DDoS': '0', 'Normal': '1', 'Reconnaissance': '2', 'Theft': '3'})\n",
    "training_dataset['subcategory'] = training_dataset['subcategory'].replace(\n",
    "    {'UDP': '0', 'Normal': '1', 'OS_Fingerprint': '2', 'Service_Scan': '3', 'Data_Exfiltration': '4',\n",
    "     'Keylogging': '5'})\n"
   ],
   "metadata": {
    "collapsed": false,
    "pycharm": {
     "name": "#%%\n"
    }
   }
  },
  {
   "cell_type": "code",
   "execution_count": 5,
   "outputs": [
    {
     "data": {
      "text/plain": "0         1\n1         1\n2         1\n3         1\n4         1\n         ..\n668517    1\n668518    1\n668519    1\n668520    1\n668521    1\nName: attack, Length: 668522, dtype: int64"
     },
     "execution_count": 5,
     "metadata": {},
     "output_type": "execute_result"
    }
   ],
   "source": [
    "#handling the infinite value\n",
    "training_dataset.replace([np.inf, -np.inf], np.nan, inplace=True)\n",
    "training_dataset.fillna(training_dataset.mean(), inplace=True)\n",
    "training_dataset\n",
    "y = training_dataset['attack']\n",
    "x = training_dataset.drop(['attack'], axis=1)\n",
    "x\n",
    "y"
   ],
   "metadata": {
    "collapsed": false,
    "pycharm": {
     "name": "#%%\n"
    }
   }
  },
  {
   "cell_type": "code",
   "execution_count": 6,
   "metadata": {},
   "outputs": [
    {
     "data": {
      "text/plain": "array([[0.00000000e+00, 0.00000000e+00, 0.00000000e+00, ...,\n        1.27100680e-02, 0.00000000e+00, 0.00000000e+00],\n       [1.49583932e-06, 0.00000000e+00, 0.00000000e+00, ...,\n        1.27100680e-02, 0.00000000e+00, 0.00000000e+00],\n       [2.99167865e-06, 0.00000000e+00, 0.00000000e+00, ...,\n        1.27100680e-02, 0.00000000e+00, 0.00000000e+00],\n       ...,\n       [9.99997008e-01, 0.00000000e+00, 2.50000000e-01, ...,\n        3.73077380e-03, 1.00000000e+00, 1.00000000e+00],\n       [9.99998504e-01, 0.00000000e+00, 2.50000000e-01, ...,\n        2.54370941e-05, 1.00000000e+00, 1.00000000e+00],\n       [1.00000000e+00, 0.00000000e+00, 7.50000000e-01, ...,\n        1.27185470e-04, 1.00000000e+00, 1.00000000e+00]])"
     },
     "execution_count": 6,
     "metadata": {},
     "output_type": "execute_result"
    }
   ],
   "source": [
    "from sklearn.preprocessing import MinMaxScaler\n",
    "scaler = MinMaxScaler()\n",
    "scaler.fit(x)\n",
    "normalized_x = scaler.transform(x)\n",
    "normalized_x"
   ]
  },
  {
   "cell_type": "code",
   "execution_count": 7,
   "metadata": {},
   "outputs": [],
   "source": [
    "from sklearn.naive_bayes import GaussianNB"
   ]
  },
  {
   "cell_type": "code",
   "execution_count": 8,
   "metadata": {},
   "outputs": [],
   "source": [
    "X_train, X_test, Y_train, Y_test = train_test_split(normalized_x, y, random_state=100, test_size=0.3)"
   ]
  },
  {
   "cell_type": "code",
   "execution_count": 9,
   "metadata": {},
   "outputs": [
    {
     "data": {
      "text/plain": "GaussianNB()"
     },
     "execution_count": 9,
     "metadata": {},
     "output_type": "execute_result"
    }
   ],
   "source": [
    "clf = GaussianNB()\n",
    "clf.fit(X_train, Y_train)"
   ]
  },
  {
   "cell_type": "code",
   "execution_count": 10,
   "metadata": {},
   "outputs": [
    {
     "name": "stdout",
     "output_type": "stream",
     "text": [
      "program start...\n",
      "\n",
      "\n",
      "0.9998753471581645\n",
      "\n",
      "[1 1 1 ... 1 1 1]\n",
      "\n",
      "program end...\n",
      "\n",
      "time cost: \n",
      "2.3178799152374268 seconds\n"
     ]
    }
   ],
   "source": [
    "start = time.time()\n",
    "print('program start...')\n",
    "print()\n",
    "\n",
    "clf = GaussianNB().fit(X_train, Y_train)\n",
    "print()\n",
    "print(clf.score(X_test, Y_test))\n",
    "print()\n",
    "\n",
    "y_pred = clf.fit(X_train, Y_train).predict(X_test)\n",
    "print(y_pred)\n",
    "print()\n",
    "\n",
    "end = time.time()\n",
    "print('program end...')\n",
    "print()\n",
    "print('time cost: ')\n",
    "print(end - start, 'seconds')"
   ]
  },
  {
   "cell_type": "code",
   "execution_count": 11,
   "metadata": {},
   "outputs": [
    {
     "name": "stdout",
     "output_type": "stream",
     "text": [
      "Classifiction Report :\n",
      "              precision    recall  f1-score   support\n",
      "\n",
      "           0       1.00      0.82      0.90       138\n",
      "           1       1.00      1.00      1.00    200419\n",
      "\n",
      "    accuracy                           1.00    200557\n",
      "   macro avg       1.00      0.91      0.95    200557\n",
      "weighted avg       1.00      1.00      1.00    200557\n",
      "\n"
     ]
    }
   ],
   "source": [
    "print(\"Classifiction Report :\")\n",
    "print(classification_report(Y_test, y_pred))"
   ]
  },
  {
   "cell_type": "code",
   "execution_count": null,
   "metadata": {},
   "outputs": [],
   "source": []
  },
  {
   "cell_type": "code",
   "execution_count": null,
   "metadata": {},
   "outputs": [],
   "source": []
  }
 ],
 "metadata": {
  "kernelspec": {
   "display_name": "Python 3",
   "language": "python",
   "name": "python3"
  },
  "language_info": {
   "codemirror_mode": {
    "name": "ipython",
    "version": 3
   },
   "file_extension": ".py",
   "mimetype": "text/x-python",
   "name": "python",
   "nbconvert_exporter": "python",
   "pygments_lexer": "ipython3",
   "version": "3.8.5"
  }
 },
 "nbformat": 4,
 "nbformat_minor": 4
}